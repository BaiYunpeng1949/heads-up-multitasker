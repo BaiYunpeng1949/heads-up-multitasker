{
 "cells": [
  {
   "cell_type": "code",
   "execution_count": 1,
   "id": "70ceba2f",
   "metadata": {},
   "outputs": [],
   "source": [
    "import numpy as np\n",
    "import pandas as pd\n",
    "from sklearn.model_selection import train_test_split\n",
    "\n",
    "# 1. Read in the data from csv\n",
    "human_data = pd.read_csv('human data/reading speed decrement.csv')\n",
    "simulated_data = pd.read_csv('0627_perturbation_fine_grid_search_results.csv')\n",
    "\n",
    "# Filter simulated_data for dwell steps=0.2\n",
    "simulated_data = simulated_data[\n",
    "    (simulated_data['dwell_steps'] == 0.2)\n",
    "    & (simulated_data['perturbation_amp_noise_scale'] == 0.01)\n",
    "]"
   ]
  },
  {
   "cell_type": "code",
   "execution_count": 2,
   "id": "7d8749dc",
   "metadata": {},
   "outputs": [
    {
     "name": "stdout",
     "output_type": "stream",
     "text": [
      "CPU times: total: 1.06 s\n",
      "Wall time: 1.28 s\n"
     ]
    }
   ],
   "source": [
    "%%time\n",
    "\n",
    "def compute_cost(sim_ratio, human_ratio_mean):\n",
    "    return np.abs(sim_ratio - human_ratio_mean)\n",
    "\n",
    "# Lists to store results\n",
    "results_list = []\n",
    "\n",
    "num_iterations = 500  # 12 choose 6\n",
    "\n",
    "for i in range(num_iterations):\n",
    "    # 2. Split human data into train and test\n",
    "    train, test = train_test_split(human_data, test_size=6, random_state=i)\n",
    "    \n",
    "    train_mean_ratio = np.mean(train['ratio'])\n",
    "    test_mean_ratio = np.mean(test['ratio'])\n",
    "    \n",
    "    min_cost = float('inf')\n",
    "    best_params = None\n",
    "    sim_mean_ratio = None\n",
    "\n",
    "    # 3. Find the closest match\n",
    "    for index, row in simulated_data.iterrows():\n",
    "        cost = compute_cost(row['walk_over_stand_percent'], train_mean_ratio)\n",
    "        if cost < min_cost:\n",
    "            min_cost = cost\n",
    "            best_params = row\n",
    "            sim_mean_ratio = row['walk_over_stand_percent']\n",
    "            \n",
    "    results_list.append({\n",
    "        'perturbation_amp_tuning_factor': best_params['perturbation_amp_tuning_factor'],\n",
    "        'perturbation_amp_noise_scale': best_params['perturbation_amp_noise_scale'],\n",
    "        'train_mean_ratio': train_mean_ratio,\n",
    "        'test_mean_ratio': test_mean_ratio,\n",
    "        'sim_mean_ratio': sim_mean_ratio\n",
    "    })\n",
    "\n",
    "# Storing and displaying results\n",
    "results = pd.DataFrame(results_list)\n",
    "# print(results)\n"
   ]
  },
  {
   "cell_type": "code",
   "execution_count": 3,
   "id": "63752481",
   "metadata": {},
   "outputs": [
    {
     "data": {
      "image/png": "[encoded data removed]",
      "text/plain": [
       "<Figure size 432x432 with 1 Axes>"
      ]
     },
     "metadata": {
      "needs_background": "light"
     },
     "output_type": "display_data"
    }
   ],
   "source": [
    "import matplotlib.pyplot as plt\n",
    "import numpy as np\n",
    "\n",
    "# Given labels\n",
    "labels = ['Walking Reading Speed vs Standing Reading Speed']\n",
    "labels = []\n",
    "\n",
    "# Calculate SEM\n",
    "def std(data):\n",
    "    return np.std(data) #/ np.sqrt(len(data))\n",
    "\n",
    "# Extract means and SEM for the test and simulation data\n",
    "mean_test_ratio = np.mean(results['test_mean_ratio'])\n",
    "std_test_ratio = std(results['test_mean_ratio'])\n",
    "mean_simulated_ratio = np.mean(results['sim_mean_ratio'])\n",
    "std_simulated_ratio = std(results['sim_mean_ratio'])\n",
    "\n",
    "# Plotting\n",
    "x = np.array([0.5])  # set the x location to 0.5, so it's centered\n",
    "width = 0.2  # bar width\n",
    "\n",
    "fig, ax = plt.subplots(figsize=(6, 6))\n",
    "fig.subplots_adjust(left=0.4, right=0.6, top=0.9, bottom=0.2)  # Adjust white space margins\n",
    "\n",
    "rects1 = ax.bar(x - width/2, mean_test_ratio, width, label='Human Data', color='blue', yerr=std_test_ratio, capsize=10)\n",
    "rects2 = ax.bar(x + width/2, mean_simulated_ratio, width, label='Simulated Data', color='red', yerr=std_simulated_ratio, capsize=10)\n",
    "\n",
    "# Annotating bars with mean and SEM values\n",
    "for rects, mean_val, std_val in [(rects1, mean_test_ratio, std_test_ratio), (rects2, mean_simulated_ratio, std_simulated_ratio)]:\n",
    "    rect = rects[0]\n",
    "    height = rect.get_height()\n",
    "    \n",
    "    # Annotate with mean value\n",
    "    ax.annotate(f'{mean_val*100:.2f}\\n({std_val*100:.2f})',\n",
    "                xy=(rect.get_x() + rect.get_width() / 2, height + std_val + 0.02),\n",
    "                xytext=(0, 3),  # 3 points vertical offset\n",
    "                textcoords=\"offset points\",\n",
    "                ha='center', va='bottom')\n",
    "\n",
    "# Labels, title, and custom x-axis tick labels\n",
    "ax.set_ylabel('Reading Speed ratio (%)')\n",
    "ax.set_xticks(x)\n",
    "ax.set_xticklabels(labels)\n",
    "ax.legend()\n",
    "\n",
    "# Adjust y-axis limit\n",
    "y_max = max(mean_test_ratio + std_test_ratio, mean_simulated_ratio + std_simulated_ratio)\n",
    "ax.set_ylim(0, y_max * 1.2)  # Adding a bit of margin to the top\n",
    "ax.set_xlim(0, 1)\n",
    "\n",
    "fig.tight_layout()\n",
    "plt.show()\n"
   ]
  },
  {
   "cell_type": "code",
   "execution_count": 4,
   "id": "230bc284",
   "metadata": {},
   "outputs": [
    {
     "name": "stdout",
     "output_type": "stream",
     "text": [
      "Root Mean Square Error (RMSE) between test and simulated data: 7.2528\n"
     ]
    }
   ],
   "source": [
    "# RMSE\n",
    "# Compute RMSE function\n",
    "def compute_rmse(true_vals, predicted_vals):\n",
    "    return np.sqrt(np.mean((np.array(true_vals) - np.array(predicted_vals)) ** 2))\n",
    "\n",
    "# Calculate RMSE between test and simulated data\n",
    "rmse = compute_rmse(results['test_mean_ratio']*100, results['sim_mean_ratio']*100)\n",
    "print(f\"Root Mean Square Error (RMSE) between test and simulated data: {rmse:.4f}\")"
   ]
  },
  {
   "cell_type": "code",
   "execution_count": null,
   "id": "f0e97b30",
   "metadata": {},
   "outputs": [],
   "source": []
  }
 ],
 "metadata": {
  "kernelspec": {
   "display_name": "Python 3 (ipykernel)",
   "language": "python",
   "name": "python3"
  },
  "language_info": {
   "codemirror_mode": {
    "name": "ipython",
    "version": 3
   },
   "file_extension": ".py",
   "mimetype": "text/x-python",
   "name": "python",
   "nbconvert_exporter": "python",
   "pygments_lexer": "ipython3",
   "version": "3.9.12"
  }
 },
 "nbformat": 4,
 "nbformat_minor": 5
}
