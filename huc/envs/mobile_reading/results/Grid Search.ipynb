{
 "cells": [
  {
   "cell_type": "markdown",
   "id": "68a6af03",
   "metadata": {},
   "source": [
    "# Grid Search using the whole Human Data"
   ]
  },
  {
   "cell_type": "markdown",
   "id": "c7ced863",
   "metadata": {},
   "source": [
    "## Read Data"
   ]
  },
  {
   "cell_type": "code",
   "execution_count": 1,
   "id": "1fba7e61",
   "metadata": {},
   "outputs": [],
   "source": [
    "import numpy as np\n",
    "import pandas as pd\n",
    "import matplotlib.pyplot as plt\n",
    "import matplotlib.patches as patches\n",
    "from sklearn.model_selection import train_test_split\n",
    "\n",
    "# Get data source.\n",
    "simulated_results = r\"D:\\Users\\91584\\PycharmProjects\\uitb-headsup-computing\\huc\\envs\\mobile_reading\\results\\0817_0630_selection_results.csv\"\n",
    "human_duration_data = r\"D:\\Users\\91584\\PycharmProjects\\uitb-headsup-computing\\huc\\envs\\mobile_reading\\results\\human data\\word selection duration.csv\"\n",
    "human_error_rate_data = r\"D:\\Users\\91584\\PycharmProjects\\uitb-headsup-computing\\huc\\envs\\mobile_reading\\results\\human data\\word selection error rate.csv\"\n",
    "\n",
    "# Read in as dataframe.\n",
    "df_simulations = pd.read_csv(simulated_results)\n",
    "human_duration_df = pd.read_csv(human_duration_data)\n",
    "human_error_rate_df = pd.read_csv(human_error_rate_data)\n",
    "\n",
    "params = {\n",
    "    'init_delta_t':None,\n",
    "    'init_sigma_position_memory':None,\n",
    "    'weight_memory_decay':None,\n",
    "    'spatial_dist_coeff':None,\n",
    "}\n",
    "\n",
    "layouts = ['L0', 'L50', 'L100']\n",
    "metrics = ['steps', 'error']\n",
    "\n",
    "# Get individual-level human data\n",
    "# human_data_steps_list = [1.572, 1.246, 1.032]    # L0, L50, L100\n",
    "# human_data_error_list = [9.311, 4.275, 2.016]    # L0, L50, L100\n",
    "human_duration_data = [human_duration_df[col].tolist() for col in human_duration_df.columns if col != \"Participant\"]\n",
    "human_error_data = [human_error_rate_df[col].tolist() for col in human_error_rate_df.columns if col != \"Participant\"]"
   ]
  },
  {
   "cell_type": "code",
   "execution_count": 2,
   "id": "daf0aef3",
   "metadata": {},
   "outputs": [
    {
     "data": {
      "text/plain": [
       "([[1.42, 1.13, 1.13, 4.23, 1.37, 1.81, 1.08, 1.45, 1.59, 1.79, 1.11, 0.75],\n",
       "  [1.48, 1.94, 0.7, 3.19, 0.64, 1.23, 0.87, 1.11, 1.15, 1.13, 0.95, 0.56],\n",
       "  [1.38, 1.11, 0.6, 3.36, 0.73, 0.83, 0.85, 0.96, 0.92, 0.78, 0.42, 0.44]],\n",
       " 3,\n",
       " 12)"
      ]
     },
     "execution_count": 2,
     "metadata": {},
     "output_type": "execute_result"
    }
   ],
   "source": [
    "human_duration_data, len(human_duration_data), len(human_duration_data[0])"
   ]
  },
  {
   "cell_type": "code",
   "execution_count": 12,
   "id": "fc77e284",
   "metadata": {},
   "outputs": [
    {
     "data": {
      "text/plain": [
       "[[15.46, 2.41, 6.36, 27.27, 3.92, 8.18, 2.0, 11.21, 0.73, 5.26, 10.92, 18.01],\n",
       " [2.99, 1.71, 2.96, 11.72, 0.0, 5.29, 1.45, 4.18, 1.98, 3.83, 10.31, 4.88],\n",
       " [3.29, 0.0, 0.84, 6.84, 0.91, 0.0, 0.6, 0.18, 0.47, 4.99, 2.12, 3.95]]"
      ]
     },
     "execution_count": 12,
     "metadata": {},
     "output_type": "execute_result"
    }
   ],
   "source": [
    "human_error_data"
   ]
  },
  {
   "cell_type": "markdown",
   "id": "d20637c1",
   "metadata": {},
   "source": [
    "## Grid Search with the Loss Function of Summed Abs Difference"
   ]
  },
  {
   "cell_type": "code",
   "execution_count": 4,
   "id": "9a28265a",
   "metadata": {},
   "outputs": [
    {
     "name": "stdout",
     "output_type": "stream",
     "text": [
      "Best parameters: init_delta_t                  3.5\n",
      "init_sigma_position_memory    0.5\n",
      "weight_memory_decay           0.6\n",
      "spatial_dist_coeff            2.5\n",
      "Name: 6975, dtype: float64\n"
     ]
    }
   ],
   "source": [
    "# Normalize a list\n",
    "def normalize(lst):\n",
    "    min_val = min(lst)\n",
    "    max_val = max(lst)\n",
    "    if min_val == max_val:  # Avoid division by zero\n",
    "        return [0.5 for _ in lst]  # Return 0.5 (middle) if all values are same\n",
    "    return [(x - min_val) / (max_val - min_val) for x in lst]\n",
    "\n",
    "# Define the cost function\n",
    "def compute_cost(sim_data, human_data):\n",
    "    return sum(abs(sim - human) for sim, human in zip(sim_data, human_data))\n",
    "\n",
    "# Get the mean values\n",
    "mean_human_duration = [np.mean(data) for data in human_duration_data]\n",
    "mean_human_error = [np.mean(data) for data in human_error_data]\n",
    "\n",
    "# Normalize the human data\n",
    "human_duration_norm = normalize(mean_human_duration)\n",
    "human_error_norm = normalize(mean_human_error)\n",
    "\n",
    "# Iterate through each unique parameter combination\n",
    "unique_params = df_simulations.drop(columns=['layout', 'steps', 'error']).drop_duplicates()\n",
    "\n",
    "min_cost = float('inf')\n",
    "best_params = None\n",
    "\n",
    "for index, row in unique_params.iterrows():\n",
    "    # Filter the dataframe for the specific parameter combination\n",
    "    filtered_df = df_simulations[\n",
    "        (df_simulations['init_delta_t'] == row['init_delta_t']) &\n",
    "        (df_simulations['init_sigma_position_memory'] == row['init_sigma_position_memory']) &\n",
    "        (df_simulations['weight_memory_decay'] == row['weight_memory_decay']) &\n",
    "        (df_simulations['spatial_dist_coeff'] == row['spatial_dist_coeff'])\n",
    "    ]\n",
    "    \n",
    "    sim_duration = [filtered_df[filtered_df['layout'] == layout]['steps'].values[0] for layout in layouts]\n",
    "    sim_error = [filtered_df[filtered_df['layout'] == layout]['error'].values[0] for layout in layouts]\n",
    "    \n",
    "    # Normalize the simulated data\n",
    "    sim_duration_norm = normalize(sim_duration)\n",
    "    sim_error_norm = normalize(sim_error)\n",
    "    \n",
    "    # Compute the cost\n",
    "    cost_duration = compute_cost(sim_duration_norm, human_duration_norm)\n",
    "    cost_error = compute_cost(sim_error_norm, human_error_norm)\n",
    "    total_cost = cost_duration + cost_error\n",
    "\n",
    "    # Update the best parameters if this cost is lower\n",
    "    if total_cost < min_cost:\n",
    "        min_cost = total_cost\n",
    "        best_params = row\n",
    "        \n",
    "print(\"Best parameters:\", best_params)"
   ]
  },
  {
   "cell_type": "markdown",
   "id": "337d75f7",
   "metadata": {},
   "source": [
    "## Get a sim-to-real-mapping-parameter to fit human data and Plot"
   ]
  },
  {
   "cell_type": "code",
   "execution_count": 5,
   "id": "e907ca36",
   "metadata": {},
   "outputs": [],
   "source": [
    "# Using best_params, get the simulation data for steps and errors for the best parameters\n",
    "best_df = df_simulations[\n",
    "    (df_simulations['init_delta_t'] == best_params['init_delta_t']) &\n",
    "    (df_simulations['init_sigma_position_memory'] == best_params['init_sigma_position_memory']) &\n",
    "    (df_simulations['weight_memory_decay'] == best_params['weight_memory_decay']) &\n",
    "    (df_simulations['spatial_dist_coeff'] == best_params['spatial_dist_coeff'])\n",
    "]\n",
    "\n",
    "sim_duration_best = [best_df[best_df['layout'] == layout]['steps'].values[0] for layout in layouts]\n",
    "sim_error_best = [best_df[best_df['layout'] == layout]['error'].values[0] for layout in layouts]\n",
    "\n",
    "sim_to_real_ratio_duration = sum(mean_human_duration) / sum(sim_duration_best)\n",
    "sim_to_real_ratio_error = sum(mean_human_error) / sum(sim_error_best)"
   ]
  },
  {
   "cell_type": "code",
   "execution_count": 6,
   "id": "bf1ccd32",
   "metadata": {},
   "outputs": [
    {
     "data": {
      "text/plain": [
       "[10.56, 8.24, 6.72]"
      ]
     },
     "execution_count": 6,
     "metadata": {},
     "output_type": "execute_result"
    }
   ],
   "source": [
    "sim_duration_best"
   ]
  },
  {
   "cell_type": "code",
   "execution_count": 7,
   "id": "6e6f24b8",
   "metadata": {},
   "outputs": [
    {
     "data": {
      "text/plain": [
       "(0.15082941483803552, 6.6108757062146895)"
      ]
     },
     "execution_count": 7,
     "metadata": {},
     "output_type": "execute_result"
    }
   ],
   "source": [
    "sim_to_real_ratio_duration, sim_to_real_ratio_error"
   ]
  },
  {
   "cell_type": "code",
   "execution_count": 8,
   "id": "8ff7834c",
   "metadata": {},
   "outputs": [],
   "source": [
    "# Plot individual level data\n",
    "import matplotlib.pyplot as plt\n",
    "\n",
    "# Read in individual data\n",
    "individual_data = r\"C:\\Users\\91584\\Desktop\\0817_0630_selection_individual_data.csv\"\n",
    "individual_df = pd.read_csv(individual_data)"
   ]
  },
  {
   "cell_type": "code",
   "execution_count": 9,
   "id": "4bacc064",
   "metadata": {},
   "outputs": [
    {
     "data": {
      "image/png": "[encoded data removed]",
      "text/plain": [
       "<Figure size 720x864 with 2 Axes>"
      ]
     },
     "metadata": {
      "needs_background": "light"
     },
     "output_type": "display_data"
    }
   ],
   "source": [
    "def extract_data(df, params, col_name, layouts):\n",
    "    # Filter the dataframe based on the provided params\n",
    "    for key, value in params.items():\n",
    "        if isinstance(value, float):\n",
    "            df = df[np.isclose(df[key], value, atol=1e-8)]\n",
    "        else:\n",
    "            df = df[df[key] == value]\n",
    "    \n",
    "    data = []\n",
    "    for layout in layouts:\n",
    "        subset = df[df['layout'] == layout][col_name].tolist()\n",
    "        data.append(subset)\n",
    "    return data\n",
    "\n",
    "# Function to calculate means and standard error of the mean\n",
    "def calculate_mean_and_sem(data):\n",
    "    means = [np.mean(d) for d in data]\n",
    "    sems = [np.std(d) / np.sqrt(len(d)) for d in data]\n",
    "    return means, sems\n",
    "\n",
    "# Extract the data for each agent\n",
    "simulation_durations = extract_data(individual_df, best_params, 'steps', layouts)\n",
    "simulation_errors = extract_data(individual_df, best_params, 'error', layouts)\n",
    "sim_durations = [[item * sim_to_real_ratio_duration for item in sublist] for sublist in simulation_durations]\n",
    "sim_errors = [[item * sim_to_real_ratio_error for item in sublist] for sublist in simulation_errors]\n",
    "\n",
    "sim_duration_mean, sim_duration_sem = calculate_mean_and_sem(sim_durations)\n",
    "sim_error_mean, sim_error_sem = calculate_mean_and_sem(sim_errors)\n",
    "human_duration_mean, human_duration_sem = calculate_mean_and_sem(human_duration_data)\n",
    "human_error_mean, human_error_sem = calculate_mean_and_sem(human_error_data)\n",
    "\n",
    "# Plot\n",
    "def adjust_ylim(ax, bar_heights, sems):\n",
    "    max_height = max(bar_heights)\n",
    "    max_sem = max(sems)\n",
    "    margin = max_height * 0.1  # Adjust as per requirement\n",
    "    ax.set_ylim(0, max_height + max_sem + margin)\n",
    "\n",
    "# Data Preparation\n",
    "x_labels = [\"L0\", \"L50\", \"L100\"]\n",
    "x = np.arange(len(x_labels))\n",
    "\n",
    "fig, axs = plt.subplots(2, 1, figsize=(10, 12))\n",
    "\n",
    "# Set width for boxplots\n",
    "bar_width = 0.25\n",
    "\n",
    "# Plot for Duration\n",
    "axs[0].bar(x - bar_width/2, sim_duration_mean, yerr=sim_duration_sem, color='blue', width=bar_width, label='Simulator', capsize=5)\n",
    "axs[0].bar(x + bar_width/2, human_duration_mean, yerr=human_duration_sem, color='orange', width=bar_width, label='Human', capsize=5)\n",
    "\n",
    "# For Duration\n",
    "for i, rect in enumerate(axs[0].patches):\n",
    "    height = rect.get_height()\n",
    "    if i < len(x_labels):  # This means the bar is for Simulator data\n",
    "        sem = sim_duration_sem[i]\n",
    "    else:  # This means the bar is for Human data\n",
    "        sem = human_duration_sem[i-len(x_labels)]\n",
    "    axs[0].annotate(f\"{height:.2f}\\n({sem:.2f})\", \n",
    "                   (rect.get_x() + rect.get_width() / 2., height + sem + 0.05),\n",
    "                   ha='center', va='bottom')\n",
    "\n",
    "# Styling for Duration\n",
    "# axs[0].set_title(\"Word Selection Duration Across Different Layouts\", fontsize=14, fontweight='bold')\n",
    "axs[0].set_xlabel(\"Layouts\", fontsize=12)\n",
    "axs[0].set_ylabel(\"Word Selection Duration Across Different Layouts (s)\", fontsize=12)\n",
    "axs[0].set_xticks(x)\n",
    "axs[0].set_xticklabels(x_labels)\n",
    "axs[0].legend()\n",
    "\n",
    "# Plot for Error Rate\n",
    "axs[1].bar(x - bar_width/2, sim_error_mean, yerr=sim_error_sem, color='blue', width=bar_width, label='Simulator', capsize=5)\n",
    "axs[1].bar(x + bar_width/2, human_error_mean, yerr=human_error_sem, color='orange', width=bar_width, label='Human', capsize=5)\n",
    "\n",
    "# For Error Rate\n",
    "for i, rect in enumerate(axs[1].patches):\n",
    "    height = rect.get_height()\n",
    "    if i < len(x_labels):  # This means the bar is for Simulator data\n",
    "        sem = sim_error_sem[i]\n",
    "    else:  # This means the bar is for Human data\n",
    "        sem = human_error_sem[i-len(x_labels)]\n",
    "    axs[1].annotate(f\"{height:.2f}%\\n({sem:.2f}%)\", \n",
    "                   (rect.get_x() + rect.get_width() / 2., height + sem + 0.05),\n",
    "                   ha='center', va='bottom')\n",
    "\n",
    "# After plotting and annotating Duration bars, adjust the y-limit\n",
    "adjust_ylim(axs[0], sim_duration_mean + human_duration_mean, sim_duration_sem + human_duration_sem)\n",
    "\n",
    "# After plotting and annotating Error Rate bars, adjust the y-limit\n",
    "adjust_ylim(axs[1], sim_error_mean + human_error_mean, sim_error_sem + human_error_sem)\n",
    "\n",
    "# Styling for Error Rate\n",
    "# axs[1].set_title(\"Word Selection Error Rate Across Different Layouts\", fontsize=14, fontweight='bold')\n",
    "axs[1].set_xlabel(\"Layouts\", fontsize=12)\n",
    "axs[1].set_ylabel(\"Word Selection Error Rate Across Different Layouts (%)\", fontsize=12)\n",
    "axs[1].set_xticks(x)\n",
    "axs[1].set_xticklabels(x_labels)\n",
    "axs[1].legend()\n",
    "\n",
    "plt.tight_layout()\n",
    "plt.show()"
   ]
  },
  {
   "cell_type": "markdown",
   "id": "111b1725",
   "metadata": {},
   "source": [
    "## Comparison between human data and model's predictions - Need to downsample the simulated results"
   ]
  },
  {
   "cell_type": "code",
   "execution_count": 17,
   "id": "dfe2e839",
   "metadata": {},
   "outputs": [
    {
     "name": "stdout",
     "output_type": "stream",
     "text": [
      "[[0.9049764890282131, 0.9049764890282131, 0.9049764890282131, 0.9049764890282131, 0.9049764890282131, 0.9049764890282131, 0.9049764890282131, 0.9049764890282131, 0.9049764890282131, 1.5082941483803554, 0.9049764890282131, 7.541470741901776], [0.9049764890282131, 0.9049764890282131, 0.9049764890282131, 0.9049764890282131, 0.9049764890282131, 0.9049764890282131, 0.9049764890282131, 1.5082941483803554, 1.5082941483803554, 1.5082941483803554, 0.9049764890282131, 2.7149294670846396], [0.9049764890282131, 0.9049764890282131, 1.5082941483803554, 0.9049764890282131, 1.5082941483803554, 0.9049764890282131, 0.9049764890282131, 0.9049764890282131, 0.9049764890282131, 0.9049764890282131, 0.9049764890282131, 0.9049764890282131]]\n",
      "[[0.0, 0.0, 0.0, 19.83262711864407, 33.054378531073446, 0.0, 0.0, 26.443502824858758, 0.0, 0.0, 0.0, 39.66525423728814], [13.221751412429379, 19.83262711864407, 0.0, 0.0, 6.6108757062146895, 0.0, 0.0, 0.0, 0.0, 0.0, 0.0, 0.0], [0.0, 0.0, 0.0, 6.6108757062146895, 0.0, 6.6108757062146895, 0.0, 0.0, 6.6108757062146895, 0.0, 0.0, 0.0]]\n",
      "\n",
      "\n",
      "RMSE for Durations: [2.2267320015365204, 0.9965865576697335, 0.8268657736093922]\n",
      "RMSE for Errors: [13.256334247460618, 8.262368648729932, 3.4060452383005715]\n"
     ]
    }
   ],
   "source": [
    "# Function to randomly select 12 indices from a list and sample from that list using those indices\n",
    "def sample_twelve_indices(data):\n",
    "    indices = np.arange(len(data))\n",
    "    sampled_indices = np.random.choice(indices, 12, replace=False)\n",
    "    return [data[i] for i in sampled_indices]\n",
    "\n",
    "# Sample 12 items from sim_durations and sim_errors for each layout\n",
    "sampled_sim_durations = []\n",
    "sampled_sim_errors = []\n",
    "\n",
    "for duration_subset, error_subset in zip(sim_durations, sim_errors):\n",
    "    indices = np.arange(len(duration_subset))\n",
    "    if len(indices) > 12:\n",
    "        sampled_indices = np.random.choice(indices, 12, replace=False)\n",
    "    else:\n",
    "        sampled_indices = indices\n",
    "\n",
    "    sampled_sim_durations.append([duration_subset[i] for i in sampled_indices])\n",
    "    sampled_sim_errors.append([error_subset[i] for i in sampled_indices])\n",
    "\n",
    "print(sampled_sim_durations)\n",
    "print(sampled_sim_errors)\n",
    "\n",
    "def compute_rmse(true_data, pred_data):\n",
    "    assert len(true_data) == len(pred_data), \"Data lengths must match\"\n",
    "    squared_errors = [(true - pred)**2 for true, pred in zip(true_data, pred_data)]\n",
    "    return np.sqrt(np.mean(squared_errors))\n",
    "\n",
    "# Assuming human_duration_data and human_error_data are the true values\n",
    "\n",
    "rmse_durations = [compute_rmse(human, sim) for human, sim in zip(human_duration_data, sampled_sim_durations)]\n",
    "rmse_errors = [compute_rmse(human, sim) for human, sim in zip(human_error_data, sampled_sim_errors)]\n",
    "\n",
    "print(\"\\n\")\n",
    "print(\"RMSE for Durations:\", rmse_durations)\n",
    "print(\"RMSE for Errors:\", rmse_errors)"
   ]
  },
  {
   "cell_type": "markdown",
   "id": "c5b8261e",
   "metadata": {},
   "source": [
    "## Comparison between human data and simulated results - Boostrapped"
   ]
  },
  {
   "cell_type": "code",
   "execution_count": 21,
   "id": "c68239ab",
   "metadata": {},
   "outputs": [
    {
     "name": "stdout",
     "output_type": "stream",
     "text": [
      "3 50\n",
      "\n",
      "Bootstrapped RMSE for Durations: [1.6871229416100892, 0.9461004723036188, 0.8727231081558287]\n",
      "Bootstrapped RMSE for Errors: [16.23450709866984, 11.622816172756659, 6.02722977725525]\n"
     ]
    }
   ],
   "source": [
    "def bootstrap_resample(data, n):\n",
    "    \"\"\" Bootstrap resample the data to have n points. \"\"\"\n",
    "    return np.random.choice(data, n, replace=True)\n",
    "\n",
    "# Bootstrapping human data to match the length of simulated data\n",
    "bootstrapped_human_durations = [bootstrap_resample(human, len(sim)) for human, sim in zip(human_duration_data, sim_durations)]\n",
    "bootstrapped_human_errors = [bootstrap_resample(human, len(sim)) for human, sim in zip(human_error_data, sim_errors)]\n",
    "\n",
    "print(len(bootstrapped_human_durations), len(bootstrapped_human_durations[0]))\n",
    "\n",
    "# Computing RMSE for the bootstrapped data\n",
    "rmse_durations_bootstrap = [compute_rmse(human, sim) for human, sim in zip(bootstrapped_human_durations, sim_durations)]\n",
    "rmse_errors_bootstrap = [compute_rmse(human, sim) for human, sim in zip(bootstrapped_human_errors, sim_errors)]\n",
    "\n",
    "print(\"Bootstrapped RMSE for Durations:\", rmse_durations_bootstrap)\n",
    "print(\"Bootstrapped RMSE for Errors:\", rmse_errors_bootstrap)"
   ]
  },
  {
   "cell_type": "markdown",
   "id": "cb387798",
   "metadata": {},
   "source": [
    "## Comparison between human data and simulated results - Aggregated mean and variance"
   ]
  },
  {
   "cell_type": "code",
   "execution_count": 22,
   "id": "f2839147",
   "metadata": {},
   "outputs": [
    {
     "name": "stdout",
     "output_type": "stream",
     "text": [
      "Human vs Simulated Duration Mean: [1.5716666666666665, 1.2458333333333333, 1.0316666666666665] [1.5927586206896551, 1.242834378265413, 1.013573667711599]\n",
      "Human vs Simulated Duration Variance: [0.7308472222222226, 0.4768243055555556, 0.5587305555555554] [1.863785651080309, 0.3663217481538988, 0.053725248437515374]\n",
      "Human vs Simulated Error Mean: [9.310833333333335, 4.2749999999999995, 2.015833333333333] [8.461920903954802, 4.495395480225989, 2.644350282485876]\n",
      "Human vs Simulated Error Variance: [56.03105763888891, 11.244625000000001, 4.665890972222222] [190.61796023333017, 126.63577622250952, 31.466647874174097]\n"
     ]
    }
   ],
   "source": [
    "def aggregate_comparison(human_data, simulated_data):\n",
    "    # Compute aggregate metrics for human data\n",
    "    human_mean = [np.mean(data) for data in human_data]\n",
    "    human_variance = [np.var(data) for data in human_data]\n",
    "\n",
    "    # Compute aggregate metrics for simulated data\n",
    "    simulated_mean = [np.mean(data) for data in simulated_data]\n",
    "    simulated_variance = [np.var(data) for data in simulated_data]\n",
    "\n",
    "    return human_mean, human_variance, simulated_mean, simulated_variance\n",
    "\n",
    "human_mean_duration, human_var_duration, sim_mean_duration, sim_var_duration = aggregate_comparison(human_duration_data, sim_durations)\n",
    "human_mean_error, human_var_error, sim_mean_error, sim_var_error = aggregate_comparison(human_error_data, sim_errors)\n",
    "\n",
    "print(\"Human vs Simulated Duration Mean:\", human_mean_duration, sim_mean_duration)\n",
    "print(\"Human vs Simulated Duration Variance:\", human_var_duration, sim_var_duration)\n",
    "print(\"Human vs Simulated Error Mean:\", human_mean_error, sim_mean_error)\n",
    "print(\"Human vs Simulated Error Variance:\", human_var_error, sim_var_error)\n"
   ]
  },
  {
   "cell_type": "markdown",
   "id": "2cab2a87",
   "metadata": {},
   "source": [
    "## Comparison between human data and simulated results - Aggregated mean and variance"
   ]
  },
  {
   "cell_type": "code",
   "execution_count": 23,
   "id": "e9783dcc",
   "metadata": {},
   "outputs": [
    {
     "name": "stdout",
     "output_type": "stream",
     "text": [
      "KS Statistic for Durations: [0.5166666666666667, 0.3333333333333333, 0.5833333333333334]\n",
      "P-Value for Durations: [0.00644832985716548, 0.18442165557723567, 0.001199439791671808]\n",
      "KS Statistic for Errors: [0.66, 0.6566666666666666, 0.5733333333333334]\n",
      "P-Value for Errors: [0.0001273957725735908, 0.00016090361385778795, 0.0017484040152246916]\n"
     ]
    }
   ],
   "source": [
    "from scipy.stats import ks_2samp\n",
    "\n",
    "def distribution_comparison(human_data, simulated_data):\n",
    "    ks_statistic = []\n",
    "    p_value = []\n",
    "\n",
    "    for h_data, s_data in zip(human_data, simulated_data):\n",
    "        ks_stat, p_val = ks_2samp(h_data, s_data)\n",
    "        ks_statistic.append(ks_stat)\n",
    "        p_value.append(p_val)\n",
    "\n",
    "    return ks_statistic, p_value\n",
    "\n",
    "ks_stat_duration, p_val_duration = distribution_comparison(human_duration_data, sim_durations)\n",
    "ks_stat_error, p_val_error = distribution_comparison(human_error_data, sim_errors)\n",
    "\n",
    "print(\"KS Statistic for Durations:\", ks_stat_duration)\n",
    "print(\"P-Value for Durations:\", p_val_duration)\n",
    "print(\"KS Statistic for Errors:\", ks_stat_error)\n",
    "print(\"P-Value for Errors:\", p_val_error)"
   ]
  },
  {
   "cell_type": "markdown",
   "id": "2b7fcb9a",
   "metadata": {},
   "source": [
    "# Grid Search using 50% Human Data, then Evaluate on other half"
   ]
  },
  {
   "cell_type": "markdown",
   "id": "651f35b7",
   "metadata": {},
   "source": [
    "## Read Data"
   ]
  },
  {
   "cell_type": "code",
   "execution_count": 24,
   "id": "8e24ad77",
   "metadata": {},
   "outputs": [],
   "source": [
    "import numpy as np\n",
    "import pandas as pd\n",
    "import matplotlib.pyplot as plt\n",
    "import matplotlib.patches as patches\n",
    "from sklearn.model_selection import train_test_split\n",
    "\n",
    "# Get data source.\n",
    "simulated_results = r\"D:\\Users\\91584\\PycharmProjects\\uitb-headsup-computing\\huc\\envs\\mobile_reading\\results\\0817_0630_selection_results.csv\"\n",
    "human_duration_data = r\"D:\\Users\\91584\\PycharmProjects\\uitb-headsup-computing\\huc\\envs\\mobile_reading\\results\\human data\\word selection duration.csv\"\n",
    "human_error_rate_data = r\"D:\\Users\\91584\\PycharmProjects\\uitb-headsup-computing\\huc\\envs\\mobile_reading\\results\\human data\\word selection error rate.csv\"\n",
    "\n",
    "# Read in as dataframe.\n",
    "df_simulations = pd.read_csv(simulated_results)\n",
    "human_duration_df = pd.read_csv(human_duration_data)\n",
    "human_error_rate_df = pd.read_csv(human_error_rate_data)\n",
    "\n",
    "params = {\n",
    "    'init_delta_t':None,\n",
    "    'init_sigma_position_memory':None,\n",
    "    'weight_memory_decay':None,\n",
    "    'spatial_dist_coeff':None,\n",
    "}\n",
    "\n",
    "layouts = ['L0', 'L50', 'L100']\n",
    "metrics = ['steps', 'error']\n",
    "\n",
    "# Get individual-level human data\n",
    "# human_data_steps_list = [1.572, 1.246, 1.032]    # L0, L50, L100\n",
    "# human_data_error_list = [9.311, 4.275, 2.016]    # L0, L50, L100\n",
    "human_duration_data = [human_duration_df[col].tolist() for col in human_duration_df.columns if col != \"Participant\"]\n",
    "human_error_data = [human_error_rate_df[col].tolist() for col in human_error_rate_df.columns if col != \"Participant\"]"
   ]
  },
  {
   "cell_type": "code",
   "execution_count": 25,
   "id": "e1dac23d",
   "metadata": {},
   "outputs": [
    {
     "data": {
      "text/plain": [
       "[[1.42, 1.13, 1.13, 4.23, 1.37, 1.81, 1.08, 1.45, 1.59, 1.79, 1.11, 0.75],\n",
       " [1.48, 1.94, 0.7, 3.19, 0.64, 1.23, 0.87, 1.11, 1.15, 1.13, 0.95, 0.56],\n",
       " [1.38, 1.11, 0.6, 3.36, 0.73, 0.83, 0.85, 0.96, 0.92, 0.78, 0.42, 0.44]]"
      ]
     },
     "execution_count": 25,
     "metadata": {},
     "output_type": "execute_result"
    }
   ],
   "source": [
    "human_duration_data"
   ]
  },
  {
   "cell_type": "code",
   "execution_count": 26,
   "id": "43b49935",
   "metadata": {},
   "outputs": [
    {
     "data": {
      "text/plain": [
       "[[15.46, 2.41, 6.36, 27.27, 3.92, 8.18, 2.0, 11.21, 0.73, 5.26, 10.92, 18.01],\n",
       " [2.99, 1.71, 2.96, 11.72, 0.0, 5.29, 1.45, 4.18, 1.98, 3.83, 10.31, 4.88],\n",
       " [3.29, 0.0, 0.84, 6.84, 0.91, 0.0, 0.6, 0.18, 0.47, 4.99, 2.12, 3.95]]"
      ]
     },
     "execution_count": 26,
     "metadata": {},
     "output_type": "execute_result"
    }
   ],
   "source": [
    "human_error_data"
   ]
  },
  {
   "cell_type": "markdown",
   "id": "140b7f49",
   "metadata": {},
   "source": [
    "## Halve the human data into two parts - training and evaluation"
   ]
  },
  {
   "cell_type": "code",
   "execution_count": 27,
   "id": "c34d6bd1",
   "metadata": {},
   "outputs": [],
   "source": [
    "# Normalize a list\n",
    "def normalize(lst):\n",
    "    min_val = min(lst)\n",
    "    max_val = max(lst)\n",
    "    if min_val == max_val:  # Avoid division by zero\n",
    "        return [0.5 for _ in lst]  # Return 0.5 (middle) if all values are same\n",
    "    return [(x - min_val) / (max_val - min_val) for x in lst]\n",
    "\n",
    "# Define the cost function\n",
    "def compute_cost(sim_data, human_data):\n",
    "    return sum(abs(sim - human) for sim, human in zip(sim_data, human_data))\n",
    "\n",
    "def find_best_params(data, human_duration, human_error):\n",
    "    unique_params = data.drop(columns=['layout', 'steps', 'error']).drop_duplicates()\n",
    "    min_cost = float('inf')\n",
    "    best_params = None\n",
    "\n",
    "    for index, row in unique_params.iterrows():\n",
    "        filtered_df = data[\n",
    "            (data['init_delta_t'] == row['init_delta_t']) &\n",
    "            (data['init_sigma_position_memory'] == row['init_sigma_position_memory']) &\n",
    "            (data['weight_memory_decay'] == row['weight_memory_decay']) &\n",
    "            (data['spatial_dist_coeff'] == row['spatial_dist_coeff'])\n",
    "        ]\n",
    "        \n",
    "        sim_steps = [filtered_df[filtered_df['layout'] == layout]['steps'].values[0] for layout in layouts]\n",
    "        sim_error = [filtered_df[filtered_df['layout'] == layout]['error'].values[0] for layout in layouts]\n",
    "        \n",
    "        cost_steps = compute_cost(normalize(sim_steps), normalize(human_duration))\n",
    "        cost_error = compute_cost(normalize(sim_error), normalize(human_error))\n",
    "        \n",
    "        total_cost = cost_steps + cost_error\n",
    "\n",
    "        if total_cost < min_cost:\n",
    "            min_cost = total_cost\n",
    "            best_params = row\n",
    "    \n",
    "    # Given the best parameters and teh dataframe, return the simulated steps (durations) and errors for the three layouts\n",
    "    sim_steps_best = []\n",
    "    sim_errors_best = []\n",
    "    \n",
    "    # Extract the simulated steps and error for each layout based on best_params\n",
    "    for layout in layouts:\n",
    "        filtered_df = data[\n",
    "            (data['init_delta_t'] == best_params['init_delta_t']) &\n",
    "            (data['init_sigma_position_memory'] == best_params['init_sigma_position_memory']) &\n",
    "            (data['weight_memory_decay'] == best_params['weight_memory_decay']) &\n",
    "            (data['spatial_dist_coeff'] == best_params['spatial_dist_coeff']) &\n",
    "            (data['layout'] == layout)\n",
    "        ]\n",
    "        \n",
    "        sim_steps_best.append(filtered_df['steps'].values[0])\n",
    "        sim_errors_best.append(filtered_df['error'].values[0])\n",
    "\n",
    "    return best_params, min_cost, sim_steps_best, sim_errors_best"
   ]
  },
  {
   "cell_type": "code",
   "execution_count": 28,
   "id": "80276b65",
   "metadata": {},
   "outputs": [
    {
     "name": "stdout",
     "output_type": "stream",
     "text": [
      "CPU times: total: 1h 40min 56s\n",
      "Wall time: 1h 42min 21s\n"
     ]
    }
   ],
   "source": [
    "%%time\n",
    "\n",
    "num_iterations = 1000\n",
    "all_costs = []\n",
    "all_best_params = []\n",
    "\n",
    "# Lists to store sim-to-real mapping ratios for each iteration\n",
    "sim_to_real_ratios_duration = []\n",
    "sim_to_real_ratios_error = []\n",
    "\n",
    "# Initialize dictionaries for storing results\n",
    "simulated_durations = {'L0': [], 'L50': [], 'L100': []}\n",
    "simulated_errors = {'L0': [], 'L50': [], 'L100': []}\n",
    "human_train_durations = {'L0': [], 'L50': [], 'L100': []}\n",
    "human_train_errors = {'L0': [], 'L50': [], 'L100': []}\n",
    "human_test_durations = {'L0': [], 'L50': [], 'L100': []}\n",
    "human_test_errors = {'L0': [], 'L50': [], 'L100': []}\n",
    "human_train_durations_details = {'L0': [], 'L50': [], 'L100': []}  # Collect detailed data in each iterations, not aggregated\n",
    "human_train_errors_details = {'L0': [], 'L50': [], 'L100': []}\n",
    "human_test_durations_details = {'L0': [], 'L50': [], 'L100': []}\n",
    "human_test_errors_details = {'L0': [], 'L50': [], 'L100': []}\n",
    "\n",
    "for i in range(num_iterations):\n",
    "    # Number of participants\n",
    "    num_participants = len(human_duration_data[0])\n",
    "\n",
    "    # Generate list of indices based on participants\n",
    "    indices = list(range(num_participants))\n",
    "\n",
    "    # Split indices to ensure consistency\n",
    "    train_indices, test_indices = train_test_split(indices, test_size=0.5, random_state=i)  \n",
    "    # using i as the seed for reproducibility\n",
    "\n",
    "    # Use these indices to split the human data consistently across participants\n",
    "    def split_data_based_on_indices(data, train_indices, test_indices):\n",
    "        train_set = [data[i] for i in train_indices]\n",
    "        test_set = [data[i] for i in test_indices]\n",
    "        return train_set, test_set\n",
    "\n",
    "    # Split human duration data\n",
    "    train_duration = [split_data_based_on_indices(condition, train_indices, test_indices) for condition in human_duration_data]\n",
    "    train_duration = list(zip(*train_duration))[0]  # Extracting the training data\n",
    "\n",
    "    test_duration = [split_data_based_on_indices(condition, train_indices, test_indices) for condition in human_duration_data]\n",
    "    test_duration = list(zip(*test_duration))[1]  # Extracting the test data\n",
    "\n",
    "    # Split human error data\n",
    "    train_error = [split_data_based_on_indices(condition, train_indices, test_indices) for condition in human_error_data]\n",
    "    train_error = list(zip(*train_error))[0]  # Extracting the training data\n",
    "\n",
    "    test_error = [split_data_based_on_indices(condition, train_indices, test_indices) for condition in human_error_data]\n",
    "    test_error = list(zip(*test_error))[1]  # Extracting the test data\n",
    "\n",
    "    # Compute mean for the training and test sets\n",
    "    mean_train_duration = [np.mean(data) for data in train_duration]\n",
    "    mean_train_error = [np.mean(data) for data in train_error]\n",
    "    mean_test_duration = [np.mean(data) for data in test_duration]\n",
    "    mean_test_error = [np.mean(data) for data in test_error]\n",
    "\n",
    "    # Using the function to find the best parameters\n",
    "    best_params, _, sim_durations, sim_errors = find_best_params(df_simulations, mean_train_duration, mean_train_error)\n",
    "    all_best_params.append(best_params)\n",
    "    \n",
    "    # Get sim to real mapping ratios for duration and error metrics respectively\n",
    "    # Compute sim-to-real ratio for the current iteration\n",
    "    sim_to_real_ratio_duration = sum(mean_train_duration) / sum(sim_durations)\n",
    "    sim_to_real_ratio_error = sum(mean_train_error) / sum(sim_errors)\n",
    "    \n",
    "    # Store the computed ratios\n",
    "    sim_to_real_ratios_duration.append(sim_to_real_ratio_duration)\n",
    "    sim_to_real_ratios_error.append(sim_to_real_ratio_error)\n",
    "    \n",
    "    for label, sd, se, ted, tee, trd, tre in zip(\n",
    "        ['L0', 'L50', 'L100'], \n",
    "        sim_durations, \n",
    "        sim_errors, \n",
    "        test_duration, \n",
    "        test_error, \n",
    "        train_duration, \n",
    "        train_error,\n",
    "    ):\n",
    "        simulated_durations[label].append(sd)\n",
    "        simulated_errors[label].append(se)\n",
    "        human_train_durations[label].append(np.mean(trd))\n",
    "        human_train_errors[label].append(np.mean(tre))\n",
    "        human_test_durations[label].append(np.mean(ted))\n",
    "        human_test_errors[label].append(np.mean(tee))\n",
    "        human_train_durations_details[label].append(trd)\n",
    "        human_train_errors_details[label].append(tre)\n",
    "        human_test_durations_details[label].append(ted)\n",
    "        human_test_errors_details[label].append(tee)"
   ]
  },
  {
   "cell_type": "code",
   "execution_count": 29,
   "id": "3e269668",
   "metadata": {},
   "outputs": [],
   "source": [
    "# Copy results for reproducibility\n",
    "import copy\n",
    "\n",
    "simulated_durations_copy = copy.deepcopy(simulated_durations)\n",
    "simulated_errors_copy = copy.deepcopy(simulated_errors)\n",
    "human_test_durations_copy = copy.deepcopy(human_test_durations)\n",
    "human_test_errors_copy = copy.deepcopy(human_test_errors)\n",
    "human_train_durations_copy = copy.deepcopy(human_train_durations)\n",
    "human_train_errors_copy = copy.deepcopy(human_train_errors)\n",
    "human_test_durations_details_copy = copy.deepcopy(human_test_durations_details)\n",
    "human_test_errors_details_copy = copy.deepcopy(human_test_errors_details)\n",
    "human_train_durations_details_copy = copy.deepcopy(human_train_durations_details)\n",
    "human_train_errors_details_copy = copy.deepcopy(human_train_errors_details)"
   ]
  },
  {
   "cell_type": "markdown",
   "id": "ea121517",
   "metadata": {},
   "source": [
    "## Data evaluation"
   ]
  },
  {
   "cell_type": "code",
   "execution_count": 30,
   "id": "d5d90e7b",
   "metadata": {},
   "outputs": [
    {
     "data": {
      "image/png": "[encoded data removed]",
      "text/plain": [
       "<Figure size 720x576 with 2 Axes>"
      ]
     },
     "metadata": {
      "needs_background": "light"
     },
     "output_type": "display_data"
    }
   ],
   "source": [
    "import matplotlib.pyplot as plt\n",
    "import numpy as np\n",
    "\n",
    "labels = ['L0', 'L50', 'L100']\n",
    "\n",
    "# Calculate SEM\n",
    "def sem(data):\n",
    "    return np.std(data) / np.sqrt(len(data))\n",
    "\n",
    "# Using the average results for the test set\n",
    "mean_human_test_duration = [np.mean(human_test_durations_copy[label]) for label in labels]\n",
    "sem_human_test_duration = [sem(human_test_durations_copy[label]) for label in labels]\n",
    "\n",
    "mean_human_test_error = [np.mean(human_test_errors_copy[label]) for label in labels]\n",
    "sem_human_test_error = [sem(human_test_errors_copy[label]) for label in labels]\n",
    "\n",
    "# Adjust the simulated data with ratios\n",
    "for iteration in range(num_iterations):\n",
    "    for label in labels:\n",
    "        simulated_durations_copy[label][iteration] *= sim_to_real_ratios_duration[iteration]\n",
    "        simulated_errors_copy[label][iteration] *= sim_to_real_ratios_error[iteration]\n",
    "\n",
    "# Now recompute the mean and sem for these adjusted simulated results\n",
    "mean_simulated_duration = [np.mean(simulated_durations_copy[label]) for label in labels]\n",
    "sem_simulated_duration = [sem(simulated_durations_copy[label]) for label in labels]\n",
    "\n",
    "mean_simulated_error = [np.mean(simulated_errors_copy[label]) for label in labels]\n",
    "sem_simulated_error = [sem(simulated_errors_copy[label]) for label in labels]\n",
    "\n",
    "# Update the plotting logic\n",
    "x = np.arange(len(labels))\n",
    "width = 0.35\n",
    "\n",
    "fig, ax = plt.subplots(2, 1, figsize=(10, 8))\n",
    "\n",
    "# Plot for Duration\n",
    "rects1 = ax[0].bar(x - width/2, mean_human_test_duration, width, label='Human Data', color='blue', yerr=sem_human_test_duration, capsize=10)\n",
    "rects2 = ax[0].bar(x + width/2, mean_simulated_duration, width, label='Simulation', color='red', yerr=sem_simulated_duration, capsize=10)\n",
    "\n",
    "# Plot for Error\n",
    "rects3 = ax[1].bar(x - width/2, mean_human_test_error, width, label='Human Data', color='blue', yerr=sem_human_test_error, capsize=10)\n",
    "rects4 = ax[1].bar(x + width/2, mean_simulated_error, width, label='Simulation', color='red', yerr=sem_simulated_error, capsize=10)\n",
    "\n",
    "# Labels, title, and custom x-axis tick labels\n",
    "ax[0].set_ylabel('Word Selection Duration')\n",
    "ax[0].set_xticks(x)\n",
    "ax[0].set_xticklabels(labels)\n",
    "ax[0].legend()\n",
    "\n",
    "ax[1].set_ylabel('Word Selection Error')\n",
    "ax[1].set_xticks(x)\n",
    "ax[1].set_xticklabels(labels)\n",
    "ax[1].legend()\n",
    "\n",
    "fig.tight_layout()\n",
    "plt.show()\n"
   ]
  },
  {
   "cell_type": "markdown",
   "id": "caadb112",
   "metadata": {},
   "source": [
    "## Get data with only one iteration, like individual showcases"
   ]
  },
  {
   "cell_type": "code",
   "execution_count": 141,
   "id": "afc1f065",
   "metadata": {},
   "outputs": [],
   "source": [
    "import numpy as np\n",
    "import pandas as pd\n",
    "import matplotlib.pyplot as plt\n",
    "import matplotlib.patches as patches\n",
    "# Read in data\n",
    "individual_data = r\"C:\\Users\\91584\\Desktop\\0817_0630_selection_individual_data.csv\"\n",
    "\n",
    "individual_df = pd.read_csv(individual_data)"
   ]
  },
  {
   "cell_type": "code",
   "execution_count": 147,
   "id": "06fbbd26",
   "metadata": {},
   "outputs": [
    {
     "data": {
      "image/png": "[encoded data removed]",
      "text/plain": [
       "<Figure size 1008x1080 with 6 Axes>"
      ]
     },
     "metadata": {
      "needs_background": "light"
     },
     "output_type": "display_data"
    }
   ],
   "source": [
    "def extract_data(df, params, col_name, layouts):\n",
    "    # Filter the dataframe based on the provided params\n",
    "    for key, value in params.items():\n",
    "        if isinstance(value, float):\n",
    "            df = df[np.isclose(df[key], value, atol=1e-8)]\n",
    "        else:\n",
    "            df = df[df[key] == value]\n",
    "    \n",
    "    data = []\n",
    "    for layout in layouts:\n",
    "        subset = df[df['layout'] == layout][col_name].tolist()\n",
    "        data.append(subset)\n",
    "    return data\n",
    "\n",
    "def calculate_mean_and_sem(data):\n",
    "    means = [np.mean(d) for d in data]\n",
    "    sems = [np.std(d) / np.sqrt(len(d)) for d in data]\n",
    "    return means, sems\n",
    "\n",
    "def plot_iteration(iteration_index):\n",
    "    fig, axs = plt.subplots(3, 2, figsize=(14, 15))\n",
    "    \n",
    "    labels = ['L0', 'L50', 'L100']\n",
    "    x = np.arange(len(labels))\n",
    "    width = 0.25\n",
    "\n",
    "    for i in range(3):\n",
    "        iteration_index = i\n",
    "        \n",
    "        train_durations = [human_train_durations_details_copy[label][iteration_index] for label in labels]\n",
    "        mean_train_duration, sem_train_duration = calculate_mean_and_sem(train_durations)\n",
    "        \n",
    "        test_durations = [human_test_durations_details_copy[label][iteration_index] for label in labels]\n",
    "        mean_test_duration, sem_test_duration = calculate_mean_and_sem(test_durations)\n",
    "        \n",
    "        sim_durations = extract_data(individual_df, all_best_params[iteration_index], 'steps', layouts)\n",
    "        adjusted_sim_durations = [[item * sim_to_real_ratios_duration[iteration_index] for item in sublist] for sublist in sim_durations]\n",
    "        mean_sim_duration, sem_sim_duration = calculate_mean_and_sem(adjusted_sim_durations)\n",
    "        \n",
    "        train_errors = [human_train_errors_details_copy[label][iteration_index] for label in labels]\n",
    "        mean_train_error, sem_train_error = calculate_mean_and_sem(train_errors)\n",
    "        \n",
    "        test_errors = [human_test_errors_details_copy[label][iteration_index] for label in labels]\n",
    "        mean_test_error, sem_test_error = calculate_mean_and_sem(test_errors)\n",
    "        \n",
    "        sim_errors = extract_data(individual_df, all_best_params[iteration_index], 'error', layouts)\n",
    "        adjusted_sim_errors = [[item * sim_to_real_ratios_error[iteration_index] for item in sublist] for sublist in sim_errors]\n",
    "        mean_sim_error, sem_sim_error = calculate_mean_and_sem(adjusted_sim_errors)\n",
    "        \n",
    "        # Duration plots\n",
    "        axs[i, 0].bar(x - width, mean_train_duration, width, label='Train', color='green', yerr=sem_train_duration, capsize=10)\n",
    "        axs[i, 0].bar(x, mean_sim_duration, width, label='Simulated', color='red', yerr=sem_sim_duration, capsize=10)\n",
    "        axs[i, 0].bar(x + width, mean_test_duration, width, label='Test', color='blue', yerr=sem_test_duration, capsize=10)\n",
    "        \n",
    "        axs[i, 0].set_ylabel('Word Selection Duration')\n",
    "        axs[i, 0].set_xticks(x)\n",
    "        axs[i, 0].set_xticklabels(labels)\n",
    "        axs[i, 0].legend()\n",
    "\n",
    "        # Error plots\n",
    "        axs[i, 1].bar(x - width, mean_train_error, width, label='Train', color='green', yerr=sem_train_error, capsize=10)\n",
    "        axs[i, 1].bar(x, mean_sim_error, width, label='Simulated', color='red', yerr=sem_sim_error, capsize=10)\n",
    "        axs[i, 1].bar(x + width, mean_test_error, width, label='Test', color='blue', yerr=sem_test_error, capsize=10)\n",
    "        \n",
    "        axs[i, 1].set_ylabel('Word Selection Error')\n",
    "        axs[i, 1].set_xticks(x)\n",
    "        axs[i, 1].set_xticklabels(labels)\n",
    "        axs[i, 1].legend()\n",
    "\n",
    "    fig.tight_layout()\n",
    "    plt.show()\n",
    "\n",
    "# Plot for iteration 3\n",
    "plot_iteration(3)"
   ]
  },
  {
   "cell_type": "code",
   "execution_count": null,
   "id": "f54164fb",
   "metadata": {},
   "outputs": [],
   "source": []
  },
  {
   "cell_type": "code",
   "execution_count": null,
   "id": "6c083cef",
   "metadata": {},
   "outputs": [],
   "source": []
  }
 ],
 "metadata": {
  "kernelspec": {
   "display_name": "Python 3",
   "language": "python",
   "name": "python3"
  },
  "language_info": {
   "codemirror_mode": {
    "name": "ipython",
    "version": 3
   },
   "file_extension": ".py",
   "mimetype": "text/x-python",
   "name": "python",
   "nbconvert_exporter": "python",
   "pygments_lexer": "ipython3",
   "version": "3.8.8"
  }
 },
 "nbformat": 4,
 "nbformat_minor": 5
}
