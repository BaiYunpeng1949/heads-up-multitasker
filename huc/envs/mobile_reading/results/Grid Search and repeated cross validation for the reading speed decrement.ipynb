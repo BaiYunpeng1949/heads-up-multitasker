{
 "cells": [
  {
   "cell_type": "code",
   "execution_count": 49,
   "id": "70ceba2f",
   "metadata": {},
   "outputs": [],
   "source": [
    "import numpy as np\n",
    "import pandas as pd\n",
    "from sklearn.model_selection import train_test_split\n",
    "\n",
    "# 1. Read in the data from csv\n",
    "human_data = pd.read_csv('human data/reading speed decrement.csv')\n",
    "simulated_data = pd.read_csv('fine_grid_search_results.csv')\n",
    "\n",
    "# Filter simulated_data for dwell steps=0.2\n",
    "simulated_data = simulated_data[simulated_data['dwell_steps'] == 0.2]"
   ]
  },
  {
   "cell_type": "code",
   "execution_count": 54,
   "id": "7d8749dc",
   "metadata": {},
   "outputs": [
    {
     "name": "stdout",
     "output_type": "stream",
     "text": [
      "    perturbation_amp_tuning_factor  perturbation_amp_noise_scale  \\\n",
      "0                             0.00                         0.004   \n",
      "1                             0.00                         0.004   \n",
      "2                             0.00                         0.001   \n",
      "3                             0.02                         0.008   \n",
      "4                             0.02                         0.008   \n",
      "5                             0.00                         0.006   \n",
      "6                             0.02                         0.008   \n",
      "7                             0.00                         0.006   \n",
      "8                             0.00                         0.009   \n",
      "9                             0.00                         0.002   \n",
      "10                            0.00                         0.009   \n",
      "11                            0.04                         0.004   \n",
      "12                            0.03                         0.008   \n",
      "13                            0.00                         0.001   \n",
      "14                            0.04                         0.004   \n",
      "15                            0.01                         0.006   \n",
      "16                            0.03                         0.007   \n",
      "17                            0.04                         0.004   \n",
      "18                            0.02                         0.008   \n",
      "19                            0.00                         0.001   \n",
      "\n",
      "    train_mean_ratio  test_mean_ratio  sim_mean_ratio  \n",
      "0           0.966142         0.834351        0.967213  \n",
      "1           0.966142         0.834351        0.967213  \n",
      "2           0.984117         0.810385        0.983333  \n",
      "3           0.852559         0.985795        0.855072  \n",
      "4           0.860842         0.974752        0.855072  \n",
      "5           0.881804         0.946801        0.880597  \n",
      "6           0.852559         0.985795        0.855072  \n",
      "7           0.883994         0.943881        0.880597  \n",
      "8           0.833661         1.010993        0.830986  \n",
      "9           1.016476         0.767239        1.017241  \n",
      "10          0.833661         1.010993        0.830986  \n",
      "11          0.932138         0.879689        0.936508  \n",
      "12          0.843352         0.998071        0.842857  \n",
      "13          0.984117         0.810385        0.983333  \n",
      "14          0.936897         0.873345        0.936508  \n",
      "15          0.901484         0.920562        0.907692  \n",
      "16          0.872598         0.959076        0.867647  \n",
      "17          0.940421         0.868645        0.936508  \n",
      "18          0.852559         0.985795        0.855072  \n",
      "19          0.984117         0.810385        0.983333  \n"
     ]
    }
   ],
   "source": [
    "def compute_cost(sim_ratio, human_ratio_mean):\n",
    "    return np.abs(sim_ratio - human_ratio_mean)\n",
    "\n",
    "# Lists to store results\n",
    "results_list = []\n",
    "\n",
    "num_iterations = 20  # 7 chooses 3 is 35\n",
    "\n",
    "for i in range(num_iterations):\n",
    "    # 2. Split human data into train and test\n",
    "    train, test = train_test_split(human_data, test_size=3, random_state=i)\n",
    "    \n",
    "    train_mean_ratio = np.mean(train['ratio'])\n",
    "    test_mean_ratio = np.mean(test['ratio'])\n",
    "    \n",
    "    min_cost = float('inf')\n",
    "    best_params = None\n",
    "    sim_mean_ratio = None\n",
    "\n",
    "    # 3. Find the closest match\n",
    "    for index, row in simulated_data.iterrows():\n",
    "        cost = compute_cost(row['walk_over_stand_percent'], train_mean_ratio)\n",
    "        if cost < min_cost:\n",
    "            min_cost = cost\n",
    "            best_params = row\n",
    "            sim_mean_ratio = row['walk_over_stand_percent']\n",
    "            \n",
    "    results_list.append({\n",
    "        'perturbation_amp_tuning_factor': best_params['perturbation_amp_tuning_factor'],\n",
    "        'perturbation_amp_noise_scale': best_params['perturbation_amp_noise_scale'],\n",
    "        'train_mean_ratio': train_mean_ratio,\n",
    "        'test_mean_ratio': test_mean_ratio,\n",
    "        'sim_mean_ratio': sim_mean_ratio\n",
    "    })\n",
    "\n",
    "# Storing and displaying results\n",
    "results = pd.DataFrame(results_list)\n",
    "print(results)\n"
   ]
  },
  {
   "cell_type": "code",
   "execution_count": 55,
   "id": "63752481",
   "metadata": {},
   "outputs": [
    {
     "data": {
      "image/png": "[encoded data removed]",
      "text/plain": [
       "<Figure size 576x432 with 1 Axes>"
      ]
     },
     "metadata": {
      "needs_background": "light"
     },
     "output_type": "display_data"
    }
   ],
   "source": [
    "import matplotlib.pyplot as plt\n",
    "import numpy as np\n",
    "\n",
    "# Given labels\n",
    "labels = ['Walking Reading Speed vs Standing Reading Speed']\n",
    "labels = []\n",
    "\n",
    "# Calculate SEM\n",
    "def sem(data):\n",
    "    return np.std(data) / np.sqrt(len(data))\n",
    "\n",
    "# Extract means and SEM for the test and simulation data\n",
    "mean_test_ratio = np.mean(results['test_mean_ratio'])\n",
    "sem_test_ratio = sem(results['test_mean_ratio'])\n",
    "mean_simulated_ratio = np.mean(results['sim_mean_ratio'])\n",
    "sem_simulated_ratio = sem(results['sim_mean_ratio'])\n",
    "\n",
    "# Plotting\n",
    "x = np.array([0.5])  # set the x location to 0.5, so it's centered\n",
    "width = 0.3  # bar width\n",
    "\n",
    "fig, ax = plt.subplots(figsize=(8, 6))\n",
    "fig.subplots_adjust(left=0.4, right=0.6, top=0.9, bottom=0.2)  # Adjust white space margins\n",
    "\n",
    "rects1 = ax.bar(x - width/2, mean_test_ratio, width, label='Human Data', color='blue', yerr=sem_test_ratio, capsize=10)\n",
    "rects2 = ax.bar(x + width/2, mean_simulated_ratio, width, label='Simulated Data', color='red', yerr=sem_simulated_ratio, capsize=10)\n",
    "\n",
    "# Annotating bars with mean and SEM values\n",
    "for rects, mean_val, sem_val in [(rects1, mean_test_ratio, sem_test_ratio), (rects2, mean_simulated_ratio, sem_simulated_ratio)]:\n",
    "    rect = rects[0]\n",
    "    height = rect.get_height()\n",
    "    \n",
    "    # Annotate with mean value\n",
    "    ax.annotate(f'{mean_val:.2f}\\n({sem_val:.2f})',\n",
    "                xy=(rect.get_x() + rect.get_width() / 2, height + sem_val + 0.02),\n",
    "                xytext=(0, 3),  # 3 points vertical offset\n",
    "                textcoords=\"offset points\",\n",
    "                ha='center', va='bottom')\n",
    "\n",
    "# Labels, title, and custom x-axis tick labels\n",
    "ax.set_ylabel('Reading Speed ratio: walking vs reading')\n",
    "ax.set_xticks(x)\n",
    "ax.set_xticklabels(labels)\n",
    "ax.legend()\n",
    "\n",
    "# Adjust y-axis limit\n",
    "y_max = max(mean_test_ratio + sem_test_ratio, mean_simulated_ratio + sem_simulated_ratio)\n",
    "ax.set_ylim(0, y_max * 1.2)  # Adding a bit of margin to the top\n",
    "ax.set_xlim(0, 1)\n",
    "\n",
    "fig.tight_layout()\n",
    "plt.show()\n"
   ]
  },
  {
   "cell_type": "code",
   "execution_count": 56,
   "id": "230bc284",
   "metadata": {},
   "outputs": [
    {
     "name": "stdout",
     "output_type": "stream",
     "text": [
      "Root Mean Square Error (RMSE) between test and simulated data: 0.1362\n"
     ]
    }
   ],
   "source": [
    "# RSME\n",
    "# Compute RMSE function\n",
    "def compute_rmse(true_vals, predicted_vals):\n",
    "    return np.sqrt(np.mean((np.array(true_vals) - np.array(predicted_vals)) ** 2))\n",
    "\n",
    "# Calculate RMSE between test and simulated data\n",
    "rmse = compute_rmse(results['test_mean_ratio'], results['sim_mean_ratio'])\n",
    "print(f\"Root Mean Square Error (RMSE) between test and simulated data: {rmse:.4f}\")"
   ]
  },
  {
   "cell_type": "code",
   "execution_count": null,
   "id": "e3eda715",
   "metadata": {},
   "outputs": [],
   "source": []
  }
 ],
 "metadata": {
  "kernelspec": {
   "display_name": "Python 3",
   "language": "python",
   "name": "python3"
  },
  "language_info": {
   "codemirror_mode": {
    "name": "ipython",
    "version": 3
   },
   "file_extension": ".py",
   "mimetype": "text/x-python",
   "name": "python",
   "nbconvert_exporter": "python",
   "pygments_lexer": "ipython3",
   "version": "3.8.8"
  }
 },
 "nbformat": 4,
 "nbformat_minor": 5
}
