{
 "cells": [
  {
   "cell_type": "markdown",
   "id": "c7ced863",
   "metadata": {},
   "source": [
    "## Read Data"
   ]
  },
  {
   "cell_type": "code",
   "execution_count": 1,
   "id": "8421d902",
   "metadata": {},
   "outputs": [],
   "source": [
    "import numpy as np\n",
    "import pandas as pd\n",
    "import matplotlib.pyplot as plt\n",
    "import matplotlib.patches as patches\n",
    "\n",
    "grid_search_results = r\"D:\\Users\\91584\\PycharmProjects\\uitb-headsup-computing\\huc\\envs\\mobile_reading\\results\\0815 from peisen's computer\\selection_results.csv\"\n",
    "\n",
    "df_grid_search = pd.read_csv(grid_search_results)\n",
    "\n",
    "params = {\n",
    "    'init_delta_t':None,\n",
    "    'init_sigma_position_memory':None,\n",
    "    'weight_memory_decay':None,\n",
    "    'spatial_dist_coeff':None,\n",
    "}\n",
    "\n",
    "layouts = ['L0', 'L50', 'L100']\n",
    "metrics = ['steps', 'error']\n",
    "\n",
    "human_data_steps_list = [1.572, 1.246, 1.032]    # L0, L50, L100\n",
    "human_data_error_list = [9.311, 4.275, 2.016]    # L0, L50, L100"
   ]
  },
  {
   "cell_type": "code",
   "execution_count": 2,
   "id": "cd0cddcd",
   "metadata": {},
   "outputs": [],
   "source": [
    "# # Normalize a list\n",
    "# def normalize(lst):\n",
    "#     min_val = min(lst)\n",
    "#     max_val = max(lst)\n",
    "#     if min_val == max_val:  # Avoid division by zero\n",
    "#         return [0.5 for _ in lst]  # Return 0.5 (middle) if all values are same\n",
    "#     return [(x - min_val) / (max_val - min_val) for x in lst]\n",
    "\n",
    "# # Compute the sum of squared differences\n",
    "# def compute_ssd(simulated, human):\n",
    "#     return sum([(s - h)**2 for s, h in zip(simulated, human)])\n",
    "\n",
    "# best_params = None\n",
    "# best_ssd = float('inf')  # initialized to a very large value\n",
    "\n",
    "# # Iterate over each unique parameter combination\n",
    "# for param_comb in df_grid_search.drop(['layout', 'steps', 'error'], axis=1).drop_duplicates().iterrows():\n",
    "#     param_comb = param_comb[1]\n",
    "#     ssd_steps = 0\n",
    "#     ssd_error = 0\n",
    "\n",
    "#     for layout in layouts:\n",
    "#         filtered_df = df_grid_search[\n",
    "#             (df_grid_search['init_delta_t'] == param_comb['init_delta_t']) &\n",
    "#             (df_grid_search['init_sigma_position_memory'] == param_comb['init_sigma_position_memory']) &\n",
    "#             (df_grid_search['weight_memory_decay'] == param_comb['weight_memory_decay']) &\n",
    "#             (df_grid_search['spatial_dist_coeff'] == param_comb['spatial_dist_coeff']) &\n",
    "#             (df_grid_search['layout'] == layout)\n",
    "#         ]\n",
    "\n",
    "#         sim_steps = filtered_df['steps'].values[0]\n",
    "#         sim_error = filtered_df['error'].values[0]\n",
    "\n",
    "#         ssd_steps += compute_ssd(normalize([sim_steps]), normalize([human_data_steps_list[layouts.index(layout)]]))\n",
    "#         ssd_error += compute_ssd(normalize([sim_error]), normalize([human_data_error_list[layouts.index(layout)]]))\n",
    "\n",
    "#     # Sum up the SSDs for steps and error\n",
    "#     combined_ssd = ssd_steps + ssd_error\n",
    "\n",
    "#     if combined_ssd < best_ssd:\n",
    "#         best_ssd = combined_ssd\n",
    "#         best_params = param_comb\n",
    "\n",
    "# print(\"Best parameter set:\", best_params)\n"
   ]
  },
  {
   "cell_type": "code",
   "execution_count": 3,
   "id": "9a28265a",
   "metadata": {},
   "outputs": [
    {
     "name": "stdout",
     "output_type": "stream",
     "text": [
      "Best parameters: init_delta_t                  3.0\n",
      "init_sigma_position_memory    5.0\n",
      "weight_memory_decay           0.6\n",
      "spatial_dist_coeff            3.0\n",
      "Name: 8679, dtype: float64\n"
     ]
    }
   ],
   "source": [
    "# Normalize a list\n",
    "def normalize(lst):\n",
    "    min_val = min(lst)\n",
    "    max_val = max(lst)\n",
    "    if min_val == max_val:  # Avoid division by zero\n",
    "        return [0.5 for _ in lst]  # Return 0.5 (middle) if all values are same\n",
    "    return [(x - min_val) / (max_val - min_val) for x in lst]\n",
    "\n",
    "# Define the cost function\n",
    "def compute_cost(sim_data, human_data):\n",
    "    return sum(abs(sim - human) for sim, human in zip(sim_data, human_data))\n",
    "\n",
    "# Normalize the human data\n",
    "human_steps_norm = normalize(human_data_steps_list)\n",
    "human_error_norm = normalize(human_data_error_list)\n",
    "\n",
    "# Iterate through each unique parameter combination\n",
    "unique_params = df_grid_search.drop(columns=['layout', 'steps', 'error']).drop_duplicates()\n",
    "\n",
    "min_cost = float('inf')\n",
    "best_params = None\n",
    "\n",
    "for index, row in unique_params.iterrows():\n",
    "    # Filter the dataframe for the specific parameter combination\n",
    "    filtered_df = df_grid_search[\n",
    "        (df_grid_search['init_delta_t'] == row['init_delta_t']) &\n",
    "        (df_grid_search['init_sigma_position_memory'] == row['init_sigma_position_memory']) &\n",
    "        (df_grid_search['weight_memory_decay'] == row['weight_memory_decay']) &\n",
    "        (df_grid_search['spatial_dist_coeff'] == row['spatial_dist_coeff'])\n",
    "    ]\n",
    "    \n",
    "    sim_steps = [filtered_df[filtered_df['layout'] == layout]['steps'].values[0] for layout in layouts]\n",
    "    sim_error = [filtered_df[filtered_df['layout'] == layout]['error'].values[0] for layout in layouts]\n",
    "    \n",
    "    # Normalize the simulated data\n",
    "    sim_steps_norm = normalize(sim_steps)\n",
    "    sim_error_norm = normalize(sim_error)\n",
    "    \n",
    "    # Compute the cost\n",
    "    cost_steps = compute_cost(sim_steps_norm, human_steps_norm)\n",
    "    cost_error = compute_cost(sim_error_norm, human_error_norm)\n",
    "    total_cost = cost_steps + cost_error\n",
    "\n",
    "    # Update the best parameters if this cost is lower\n",
    "    if total_cost < min_cost:\n",
    "        min_cost = total_cost\n",
    "        best_params = row\n",
    "\n",
    "print(\"Best parameters:\", best_params)\n",
    "\n"
   ]
  },
  {
   "cell_type": "code",
   "execution_count": 4,
   "id": "4ba54dfa",
   "metadata": {},
   "outputs": [
    {
     "name": "stdout",
     "output_type": "stream",
     "text": [
      "The min cost is: 0.012166321249373224\n"
     ]
    }
   ],
   "source": [
    "print(\"The min cost is:\", min_cost)"
   ]
  },
  {
   "cell_type": "code",
   "execution_count": 6,
   "id": "4bacc064",
   "metadata": {},
   "outputs": [
    {
     "data": {
      "image/png": "[encoded data removed]",
      "text/plain": [
       "<Figure size 864x360 with 2 Axes>"
      ]
     },
     "metadata": {
      "needs_background": "light"
     },
     "output_type": "display_data"
    }
   ],
   "source": [
    "import matplotlib.pyplot as plt\n",
    "\n",
    "# Using best_params, get the simulation data for steps and errors for the best parameters\n",
    "filtered_best_params_df = df_grid_search[\n",
    "    (df_grid_search['init_delta_t'] == best_params['init_delta_t']) &\n",
    "    (df_grid_search['init_sigma_position_memory'] == best_params['init_sigma_position_memory']) &\n",
    "    (df_grid_search['weight_memory_decay'] == best_params['weight_memory_decay']) &\n",
    "    (df_grid_search['spatial_dist_coeff'] == best_params['spatial_dist_coeff'])\n",
    "]\n",
    "\n",
    "sim_steps_best = [filtered_best_params_df[filtered_best_params_df['layout'] == layout]['steps'].values[0] for layout in layouts]\n",
    "sim_error_best = [filtered_best_params_df[filtered_best_params_df['layout'] == layout]['error'].values[0] for layout in layouts]\n",
    "\n",
    "# Ratios\n",
    "ratio_steps = 1/7\n",
    "ratio_error = 4.8\n",
    "\n",
    "# Adjust simulation results by the given ratios\n",
    "sim_steps_best = [value * ratio_steps for value in sim_steps_best]\n",
    "sim_error_best = [value * ratio_error for value in sim_error_best]\n",
    "\n",
    "# Plotting\n",
    "bar_width = 0.35\n",
    "indices = np.arange(len(layouts))\n",
    "\n",
    "plt.figure(figsize=(12, 5))\n",
    "\n",
    "# For steps\n",
    "plt.subplot(1, 2, 1)\n",
    "bar1 = plt.bar(indices, human_data_steps_list, bar_width, label='Human Data', color='b', alpha=0.7)\n",
    "bar2 = plt.bar(indices + bar_width, sim_steps_best, bar_width, label='Simulation', color='r', alpha=0.7)\n",
    "\n",
    "plt.xlabel('Layouts')\n",
    "plt.ylabel('Steps')\n",
    "plt.title('Comparison of Steps (Human vs. Simulation)')\n",
    "plt.xticks(indices + bar_width / 2, layouts)  # Positioning on the x axis\n",
    "plt.legend()\n",
    "\n",
    "# For errors\n",
    "plt.subplot(1, 2, 2)\n",
    "bar1 = plt.bar(indices, human_data_error_list, bar_width, label='Human Data', color='b', alpha=0.7)\n",
    "bar2 = plt.bar(indices + bar_width, sim_error_best, bar_width, label='Simulation', color='r', alpha=0.7)\n",
    "\n",
    "plt.xlabel('Layouts')\n",
    "plt.ylabel('Errors')\n",
    "plt.title('Comparison of Errors (Human vs. Simulation)')\n",
    "plt.xticks(indices + bar_width / 2, layouts)  # Positioning on the x axis\n",
    "plt.legend()\n",
    "\n",
    "plt.tight_layout()\n",
    "plt.show()\n"
   ]
  },
  {
   "cell_type": "code",
   "execution_count": null,
   "id": "c951e6ef",
   "metadata": {},
   "outputs": [],
   "source": []
  }
 ],
 "metadata": {
  "kernelspec": {
   "display_name": "Python 3",
   "language": "python",
   "name": "python3"
  },
  "language_info": {
   "codemirror_mode": {
    "name": "ipython",
    "version": 3
   },
   "file_extension": ".py",
   "mimetype": "text/x-python",
   "name": "python",
   "nbconvert_exporter": "python",
   "pygments_lexer": "ipython3",
   "version": "3.8.8"
  }
 },
 "nbformat": 4,
 "nbformat_minor": 5
}
