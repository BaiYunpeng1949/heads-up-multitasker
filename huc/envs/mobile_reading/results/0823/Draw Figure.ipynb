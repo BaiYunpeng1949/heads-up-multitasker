{
 "cells": [
  {
   "cell_type": "code",
   "execution_count": 28,
   "id": "05800cf9",
   "metadata": {},
   "outputs": [
    {
     "name": "stdout",
     "output_type": "stream",
     "text": [
      "Requirement already satisfied: opencv-python in d:\\users\\91584\\anaconda3\\lib\\site-packages (4.6.0.66)\n",
      "Requirement already satisfied: Pillow in d:\\users\\91584\\anaconda3\\lib\\site-packages (9.0.1)\n",
      "Requirement already satisfied: numpy>=1.17.3 in d:\\users\\91584\\anaconda3\\lib\\site-packages (from opencv-python) (1.21.5)\n"
     ]
    },
    {
     "name": "stderr",
     "output_type": "stream",
     "text": [
      "\n",
      "[notice] A new release of pip available: 22.3.1 -> 23.2.1\n",
      "[notice] To update, run: python.exe -m pip install --upgrade pip\n"
     ]
    },
    {
     "name": "stdout",
     "output_type": "stream",
     "text": [
      "Requirement already satisfied: opencv-python in d:\\users\\91584\\anaconda3\\lib\\site-packages (4.6.0.66)\n",
      "Requirement already satisfied: numpy>=1.14.5 in d:\\users\\91584\\anaconda3\\lib\\site-packages (from opencv-python) (1.21.5)\n"
     ]
    },
    {
     "name": "stderr",
     "output_type": "stream",
     "text": [
      "\n",
      "[notice] A new release of pip available: 22.3.1 -> 23.2.1\n",
      "[notice] To update, run: python.exe -m pip install --upgrade pip\n"
     ]
    }
   ],
   "source": [
    "!pip install opencv-python Pillow\n",
    "!pip install opencv-python"
   ]
  },
  {
   "cell_type": "code",
   "execution_count": 38,
   "id": "9e5f2b23",
   "metadata": {},
   "outputs": [],
   "source": [
    "import numpy as np\n",
    "from scipy.ndimage import gaussian_filter\n",
    "\n",
    "class FoveateVision:\n",
    "\n",
    "    def __init__(self, fovy, sigma=1):\n",
    "        self._cam_eye_fovy = fovy\n",
    "        self._sigma = sigma\n",
    "\n",
    "    def foveate(self, img, foveal_center=None):\n",
    "        \"\"\"\n",
    "        Foveate the image, note that the shape of image has to be (height, width, 3)\n",
    "        \"\"\"\n",
    "\n",
    "        # Define the foveal region\n",
    "        fov = self._cam_eye_fovy\n",
    "        foveal_size = 15\n",
    "        foveal_pixels = int(foveal_size / 2 * img.shape[0] / fov)\n",
    "\n",
    "        if foveal_center is None:  # default to center if not provided\n",
    "            foveal_center = (img.shape[0] // 2, img.shape[1] // 2)\n",
    "\n",
    "        # Create a circular mask for the foveal region\n",
    "        y, x = np.ogrid[-foveal_center[0]:img.shape[0] - foveal_center[0], -foveal_center[1]:img.shape[1] - foveal_center[1]]\n",
    "        mask = x ** 2 + y ** 2 <= (foveal_pixels ** 2)\n",
    "\n",
    "        # Apply a Gaussian blur to each color channel separately\n",
    "        blurred = np.zeros_like(img)\n",
    "        for c in range(3):\n",
    "            blurred_channel = gaussian_filter(img[:, :, c], sigma=self._sigma)\n",
    "            blurred[:, :, c][~mask] = blurred_channel[~mask]\n",
    "\n",
    "        # Combine the original image and the blurred image\n",
    "        foveated = img.copy()\n",
    "        foveated[~mask] = blurred[~mask]\n",
    "\n",
    "        return foveated"
   ]
  },
  {
   "cell_type": "code",
   "execution_count": 52,
   "id": "e6cef8b7",
   "metadata": {},
   "outputs": [
    {
     "data": {
      "text/plain": [
       "True"
      ]
     },
     "execution_count": 52,
     "metadata": {},
     "output_type": "execute_result"
    }
   ],
   "source": [
    "import cv2\n",
    "\n",
    "# Load the image using OpenCV\n",
    "img_cv = cv2.imread('subfigure3.jpg')\n",
    "\n",
    "# Convert the color space from BGR (default in OpenCV) to RGB\n",
    "img_rgb = cv2.cvtColor(img_cv, cv2.COLOR_BGR2RGB)\n",
    "\n",
    "# Now, img_rgb is your image array ready for processing\n",
    "img = img_rgb # your numpy image array here\n",
    "\n",
    "processor = FoveateVision(fovy=50, sigma=5)\n",
    "result = processor.foveate(img, foveal_center=(300, 600))\n",
    "\n",
    "# Convert the result back to BGR color space for saving with OpenCV\n",
    "result_bgr = cv2.cvtColor(result, cv2.COLOR_RGB2BGR)\n",
    "\n",
    "# Save the result using OpenCV\n",
    "cv2.imwrite('vision3.jpg', result_bgr)"
   ]
  },
  {
   "cell_type": "code",
   "execution_count": null,
   "id": "91a7af27",
   "metadata": {},
   "outputs": [],
   "source": []
  }
 ],
 "metadata": {
  "kernelspec": {
   "display_name": "Python 3 (ipykernel)",
   "language": "python",
   "name": "python3"
  },
  "language_info": {
   "codemirror_mode": {
    "name": "ipython",
    "version": 3
   },
   "file_extension": ".py",
   "mimetype": "text/x-python",
   "name": "python",
   "nbconvert_exporter": "python",
   "pygments_lexer": "ipython3",
   "version": "3.9.12"
  }
 },
 "nbformat": 4,
 "nbformat_minor": 5
}
