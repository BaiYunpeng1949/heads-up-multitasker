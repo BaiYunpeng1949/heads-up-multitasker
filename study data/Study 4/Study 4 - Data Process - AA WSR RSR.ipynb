{
 "cells": [
  {
   "cell_type": "markdown",
   "id": "ec82b95b",
   "metadata": {},
   "source": [
    "### Read Data"
   ]
  },
  {
   "cell_type": "code",
   "execution_count": null,
   "id": "71d328b4",
   "metadata": {},
   "outputs": [],
   "source": [
    "# Read Human Data\n",
    "\n",
    "# Read "
   ]
  },
  {
   "cell_type": "markdown",
   "id": "b12fd737",
   "metadata": {},
   "source": [
    "### Attention Allocation (s), Walking Speed Ratio (%), Reading Speed Ratio (%)"
   ]
  },
  {
   "cell_type": "code",
   "execution_count": null,
   "id": "ec0c9ef6",
   "metadata": {},
   "outputs": [],
   "source": []
  },
  {
   "cell_type": "markdown",
   "id": "f2745dde",
   "metadata": {},
   "source": [
    "### Reading Resumption Time Cost (s), Error Rate (%)."
   ]
  },
  {
   "cell_type": "code",
   "execution_count": null,
   "id": "fdff8f9d",
   "metadata": {},
   "outputs": [],
   "source": []
  }
 ],
 "metadata": {
  "kernelspec": {
   "display_name": "Python (pytorch-cuda)",
   "language": "python",
   "name": "pt"
  },
  "language_info": {
   "codemirror_mode": {
    "name": "ipython",
    "version": 3
   },
   "file_extension": ".py",
   "mimetype": "text/x-python",
   "name": "python",
   "nbconvert_exporter": "python",
   "pygments_lexer": "ipython3",
   "version": "3.10.8"
  }
 },
 "nbformat": 4,
 "nbformat_minor": 5
}
