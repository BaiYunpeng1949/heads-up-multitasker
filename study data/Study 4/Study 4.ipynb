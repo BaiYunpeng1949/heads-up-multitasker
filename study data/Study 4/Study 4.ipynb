{
 "cells": [
  {
   "cell_type": "markdown",
   "id": "dcecb521",
   "metadata": {},
   "source": [
    "# Simulation Result - The Attention Distribution"
   ]
  },
  {
   "cell_type": "markdown",
   "id": "79166fb0",
   "metadata": {},
   "source": [
    "### Step 1: Scatter dot distributions on the geometry map"
   ]
  },
  {
   "cell_type": "code",
   "execution_count": 1,
   "id": "b4b628ea",
   "metadata": {},
   "outputs": [],
   "source": [
    "# Load the updated CSV file to get the data\n",
    "file_path_updated = '11-29-14-22/11-29-14-22-study4_data.csv' #'11-27-09-study4_data.csv'    # The very original dataset: 11-26-16-study4_data.csv\n",
    "\n",
    "# Get the row index\n",
    "row_index = 10\n",
    "\n",
    "# Get the temporal prefix\n",
    "last_hyphen_index = file_path_updated.rfind('-')\n",
    "prefix = file_path_updated[:last_hyphen_index]\n",
    "\n",
    "if '/' in prefix:\n",
    "    prefix = prefix.split('/')[0]"
   ]
  },
  {
   "cell_type": "code",
   "execution_count": 2,
   "id": "8724aebf",
   "metadata": {},
   "outputs": [
    {
     "data": {
      "text/plain": [
       "'11-29-14-22'"
      ]
     },
     "execution_count": 2,
     "metadata": {},
     "output_type": "execute_result"
    }
   ],
   "source": [
    "prefix"
   ]
  },
  {
   "cell_type": "markdown",
   "id": "f6990abe",
   "metadata": {},
   "source": [
    "### Make the annotation clearer. Use walking positions to differentiate left and right rectangles. Add them to the legends. Add signs."
   ]
  },
  {
   "cell_type": "code",
   "execution_count": 3,
   "id": "f5e48ddb",
   "metadata": {},
   "outputs": [],
   "source": [
    "# Import necessary libraries\n",
    "import pandas as pd\n",
    "import numpy as np\n",
    "import matplotlib.pyplot as plt\n",
    "from ast import literal_eval\n",
    "\n",
    "# Load the updated CSV file to get the data\n",
    "# file_path_updated = '11-27-09-study4_data.csv'    # The very original dataset: 11-26-16-study4_data.csv\n",
    "data_updated = pd.read_csv(file_path_updated)\n",
    "\n",
    "# Function to convert string representations of lists into actual lists\n",
    "def literal_eval_col(col):\n",
    "    return col.apply(literal_eval)\n",
    "\n",
    "# Apply the literal_eval function to the columns that contain string representations of lists\n",
    "data_updated['steps'] = literal_eval_col(data_updated['steps'])\n",
    "data_updated['step_wise_walking_positions'] = literal_eval_col(data_updated['step_wise_walking_positions'])\n",
    "data_updated['step_wise_walking_speeds'] = literal_eval_col(data_updated['step_wise_walking_speeds'])\n",
    "data_updated['step_wise_attentions'] = literal_eval_col(data_updated['step_wise_attentions'])\n",
    "data_updated['sign_positions'] = literal_eval_col(data_updated['sign_positions'])\n",
    "data_updated['step_wise_reading_ratios'] = literal_eval_col(data_updated['step_wise_reading_ratios'])\n",
    "\n",
    "# # Extract the walking positions and attentions for each step\n",
    "# walking_positions = np.concatenate(data_updated['step_wise_walking_positions'].tolist())\n",
    "# attentions = np.concatenate(data_updated['step_wise_attentions'].tolist())\n",
    "\n",
    "# Assume we are using the first row (index 0) - ONLY USING THE FIRST ROW (ONE CASE)\n",
    "# row_index = 0\n",
    "walking_positions = data_updated.at[row_index, 'step_wise_walking_positions']\n",
    "attentions = data_updated.at[row_index, 'step_wise_attentions']\n",
    "sign_positions = data_updated.at[row_index, 'sign_positions']\n",
    "reading_ratios = data_updated.at[row_index, 'step_wise_reading_ratios']\n",
    "weight = data_updated.at[row_index, 'weights']\n",
    "\n",
    "# Get the prefix of the figure name\n",
    "weight_str = str(round(weight, 4))\n",
    "decimal_index = weight_str.find('.')\n",
    "weight_str_after_decimal = weight_str[decimal_index + 1:]\n",
    "\n",
    "# Define dimensions for the visualization\n",
    "height = 7   # 7\n",
    "width = 8   # 8\n",
    "perimeter = 2 * (width + height)"
   ]
  },
  {
   "cell_type": "code",
   "execution_count": 4,
   "id": "5d186614",
   "metadata": {},
   "outputs": [
    {
     "data": {
      "text/plain": [
       "0.01"
      ]
     },
     "execution_count": 4,
     "metadata": {},
     "output_type": "execute_result"
    }
   ],
   "source": [
    "weight"
   ]
  },
  {
   "cell_type": "code",
   "execution_count": 5,
   "id": "493c3c07",
   "metadata": {},
   "outputs": [
    {
     "data": {
      "image/png": "[encoded data removed]",
      "text/plain": [
       "<Figure size 1080x504 with 1 Axes>"
      ]
     },
     "metadata": {
      "needs_background": "light"
     },
     "output_type": "display_data"
    }
   ],
   "source": [
    "# Map the attentions to indices and colors\n",
    "attention_to_index = {att: idx for idx, att in enumerate(set(attentions))}\n",
    "attention_indices = [attention_to_index[att] for att in attentions]\n",
    "unique_attention_indices = sorted(set(attention_indices))\n",
    "colors = plt.cm.get_cmap('tab20', len(unique_attention_indices))\n",
    "attention_colors = {index: colors(i) for i, index in enumerate(unique_attention_indices)}\n",
    "# attention_colors = {index: colors(i) for i, index in enumerate(sorted(set(attentions)))}\n",
    "\n",
    "# # Example using a predefined colormap\n",
    "# num_labels = len(set(attentions))\n",
    "# color_palette = plt.cm.get_cmap('tab20', num_labels)\n",
    "# # Example with a manual list of colors (extend this list as needed)\n",
    "# manual_color_palette = ['#1f77b4', '#ff7f0e', '#2ca02c', '#d62728', '#9467bd', '#8c564b', '#e377c2', '#7f7f7f', '#bcbd22', '#17becf']\n",
    "\n",
    "\n",
    "###################################################################################\n",
    "# Invert the attention_to_index dictionary to map indices back to original attentions - THE PLACE WHERE I GET ORIGINAL LABELS\n",
    "index_to_attention = {idx: att for att, idx in attention_to_index.items()}\n",
    "###################################################################################\n",
    "\n",
    "# Create the figure and axes with more space between the rectangles\n",
    "fig, ax = plt.subplots(figsize=(15, 7))\n",
    "\n",
    "# Function to calculate the position along the perimeter of the rectangle\n",
    "def calculate_rectangle_position(pos, width, height, sign_offset=0):\n",
    "    # Start from the right-bottom corner, so the sides are: 7, 8, 7, 8 (height, width, height, width)\n",
    "    if pos <= height:  # Right side\n",
    "        return width+sign_offset, pos\n",
    "    elif height < pos <= (height + width): # Top side\n",
    "        return width - (pos - height), height+sign_offset\n",
    "    elif (height + width) < pos <= (height + width + height): # Left side\n",
    "        return 0-sign_offset, height - (pos - (height + width))\n",
    "    else: # Bottom side\n",
    "        return (pos - (height + width + height)), 0-sign_offset\n",
    "\n",
    "# Modified function to plot attentions based on walking positions on the rectangles\n",
    "def plot_attentions_on_rectangle(ax, walking_positions, attentions, perimeter, width, height, left_offset_x, right_offset_x):\n",
    "\n",
    "    # Draw the attention scatter points\n",
    "    for pos, att_index in zip(walking_positions, attentions):\n",
    "        # Determine the position on the rectangle\n",
    "        pos_x, pos_y = calculate_rectangle_position(pos % perimeter, width, height)\n",
    "        \n",
    "        # Adjust x position based on whether the position is in the first or second round\n",
    "        if pos < perimeter:  # First round, left rectangle\n",
    "            pos_x += left_offset_x\n",
    "        else:  # Second round, right rectangle\n",
    "            pos_x += right_offset_x\n",
    "        \n",
    "#         print(att_index)\n",
    "        \n",
    "#         color = manual_color_palette[att_index]\n",
    "        color = attention_colors[att_index]\n",
    "        # Draw a dot for the attention allocation\n",
    "        ax.scatter(pos_x, pos_y, color=color, s=50)  # s is the size of the dot\n",
    "\n",
    "def plot_sign_positions(sign_positions, sign_offset, left_offset_x, right_offset_x):\n",
    "    # Draw sign positions\n",
    "    for sign_pos in sign_positions:\n",
    "        # Determine the position on the rectangle\n",
    "        pos_x, pos_y = calculate_rectangle_position(sign_pos % perimeter, width, height, sign_offset)   # There are some issues\n",
    "        \n",
    "        # Adjust x position based on whether the position is in the first or second round\n",
    "        if sign_pos < perimeter:  # First round, left rectangle\n",
    "            pos_x += left_offset_x\n",
    "        else:  # Second round, right rectangle\n",
    "            pos_x += right_offset_x\n",
    "        \n",
    "        color = 'red'\n",
    "        # Draw a dot for the sign positions\n",
    "        ax.scatter(pos_x, pos_y, color=color, s=50)  # s is the size of the dot\n",
    "\n",
    "# Calculate the offsets for the left and right rectangles\n",
    "left_rect_offset = 3\n",
    "rectangle_offset = 7\n",
    "right_rect_offset = left_rect_offset + width + rectangle_offset  # 5 units of space between rectangles\n",
    "sign_offset = 2.5\n",
    "\n",
    "# Plot attentions on the left and right rectangles based on walking position\n",
    "plot_attentions_on_rectangle(ax, walking_positions, attention_indices, perimeter, width, height, left_rect_offset, right_rect_offset)\n",
    "\n",
    "# Plot sign positions\n",
    "plot_sign_positions(sign_positions=sign_positions, sign_offset=sign_offset, left_offset_x=left_rect_offset, right_offset_x=right_rect_offset)\n",
    "\n",
    "# Calculate the position where the vertical separation line should be drawn\n",
    "separation_line_x = left_rect_offset + width + rectangle_offset / 2\n",
    "\n",
    "# Draw a vertical line to separate the two rectangles\n",
    "ax.axvline(x=separation_line_x, color='grey', linestyle='--')\n",
    "\n",
    "# Annotations for 'first round' and 'second round'\n",
    "ax.text(left_rect_offset-1, height + 2, 'First Round', ha='center', va='bottom', fontsize=15)\n",
    "ax.text(right_rect_offset-1, height + 2, 'Second Round', ha='center', va='bottom', fontsize=15)\n",
    "\n",
    "# Set the plot limits\n",
    "ax.set_xlim(-1, right_rect_offset + width + sign_offset + 0.5)  # Adjust for spacing between rectangles and borders\n",
    "ax.set_ylim(-3, height + 3)\n",
    "\n",
    "# Keep the aspect ratio square\n",
    "ax.set_aspect('equal')\n",
    "\n",
    "# Remove axis labels and ticks\n",
    "ax.axis('off')\n",
    "\n",
    "###################################################################################\n",
    "attention_legend_handles = [\n",
    "    plt.Line2D([0], [0], marker='o', color=color, label=f'Attention: {index_to_attention[idx]}', markersize=5)\n",
    "    for idx, color in attention_colors.items()\n",
    "]\n",
    "\n",
    "# Add a legend handle for 'environmental signs'\n",
    "environmental_signs_handle = plt.Line2D([0], [0], marker='o', color='red', linestyle='None', label='Environmental Signs', markersize=5)\n",
    "attention_legend_handles.append(environmental_signs_handle)\n",
    "\n",
    "ax.legend(handles=attention_legend_handles, loc='center left', bbox_to_anchor=(1, 0.5))\n",
    "###################################################################################\n",
    "\n",
    "# Save the figure\n",
    "save_fig_path = f'{prefix}/0dot{weight_str_after_decimal}-step_by_step_attention_allocation.png'\n",
    "fig.savefig(save_fig_path, dpi=300, bbox_inches='tight')\n",
    "\n",
    "# Show the plot\n",
    "plt.tight_layout()\n",
    "plt.show()"
   ]
  },
  {
   "cell_type": "markdown",
   "id": "6483d528",
   "metadata": {},
   "source": [
    "### Reading speed plot"
   ]
  },
  {
   "cell_type": "code",
   "execution_count": 6,
   "id": "ade67736",
   "metadata": {},
   "outputs": [
    {
     "name": "stdout",
     "output_type": "stream",
     "text": [
      "{0: 'Walking Slowly (0.9 if)', 1: 0.3}\n"
     ]
    },
    {
     "name": "stderr",
     "output_type": "stream",
     "text": [
      "<ipython-input-6-8122163a365b>:119: UserWarning: Tight layout not applied. The left and right margins cannot be made large enough to accommodate all axes decorations. \n",
      "  plt.tight_layout()\n"
     ]
    },
    {
     "data": {
      "image/png": "[encoded data removed]",
      "text/plain": [
       "<Figure size 1080x504 with 1 Axes>"
      ]
     },
     "metadata": {
      "needs_background": "light"
     },
     "output_type": "display_data"
    }
   ],
   "source": [
    "# Map the reading ratios to indices and colors\n",
    "reading_ratios_to_index = {att: idx for idx, att in enumerate(set(reading_ratios))}\n",
    "reading_ratios_indices = [reading_ratios_to_index[att] for att in reading_ratios]\n",
    "unique_reading_ratios_indices = sorted(set(reading_ratios_indices))\n",
    "colors = plt.cm.get_cmap('tab20', len(unique_reading_ratios_indices))\n",
    "reading_ratios_colors = {index: colors(i) for i, index in enumerate(unique_reading_ratios_indices)}\n",
    "# reading_ratios_colors = {index: colors(i) for i, index in enumerate(set(reading_ratios))}\n",
    "\n",
    "###################################################################################\n",
    "# Invert the attention_to_index dictionary to map indices back to original attentions - THE PLACE WHERE I GET ORIGINAL LABELS\n",
    "index_to_reading_ratios = {idx: rr for rr, idx in reading_ratios_to_index.items()}\n",
    "index_to_reading_ratios[0] = 'Walking Slowly (0.9 if)'\n",
    "print(index_to_reading_ratios)\n",
    "###################################################################################\n",
    "\n",
    "# Define dimensions for the visualization\n",
    "height = 7   # 7\n",
    "width = 8   # 8\n",
    "perimeter = 2 * (width + height)\n",
    "\n",
    "# Create the figure and axes with more space between the rectangles\n",
    "fig, ax = plt.subplots(figsize=(15, 7))\n",
    "\n",
    "# Function to calculate the position along the perimeter of the rectangle\n",
    "def calculate_rectangle_position(pos, width, height, sign_offset=0):\n",
    "    # Start from the right-bottom corner, so the sides are: 7, 8, 7, 8 (height, width, height, width)\n",
    "    if pos <= height:  # Right side\n",
    "        return width+sign_offset, pos\n",
    "    elif height < pos <= (height + width): # Top side\n",
    "        return width - (pos - height), height+sign_offset\n",
    "    elif (height + width) < pos <= (height + width + height): # Left side\n",
    "        return 0-sign_offset, height - (pos - (height + width))\n",
    "    else: # Bottom side\n",
    "        return (pos - (height + width + height)), 0-sign_offset\n",
    "\n",
    "# Modified function to plot attentions based on walking positions on the rectangles\n",
    "def plot_reading_ratios_on_rectangle(ax, walking_positions, reading_ratios, perimeter, width, height, left_offset_x, right_offset_x):\n",
    "\n",
    "    # Draw the reading speed ratios scatter points\n",
    "    for pos, reading_ratio_index in zip(walking_positions, reading_ratios):\n",
    "        # Determine the position on the rectangle\n",
    "        pos_x, pos_y = calculate_rectangle_position(pos % perimeter, width, height)\n",
    "        \n",
    "        # Adjust x position based on whether the position is in the first or second round\n",
    "        if pos < perimeter:  # First round, left rectangle\n",
    "            pos_x += left_offset_x\n",
    "        else:  # Second round, right rectangle\n",
    "            pos_x += right_offset_x\n",
    "        \n",
    "        color = reading_ratios_colors[reading_ratio_index]\n",
    "        # Draw a dot for the attention allocation\n",
    "        ax.scatter(pos_x, pos_y, color=color, s=50)  # s is the size of the dot\n",
    "\n",
    "def plot_sign_positions(sign_positions, sign_offset, left_offset_x, right_offset_x):\n",
    "    # Draw sign positions\n",
    "    for sign_pos in sign_positions:\n",
    "        # Determine the position on the rectangle\n",
    "        pos_x, pos_y = calculate_rectangle_position(sign_pos % perimeter, width, height, sign_offset)   # There are some issues\n",
    "        \n",
    "        # Adjust x position based on whether the position is in the first or second round\n",
    "        if sign_pos < perimeter:  # First round, left rectangle\n",
    "            pos_x += left_offset_x\n",
    "        else:  # Second round, right rectangle\n",
    "            pos_x += right_offset_x\n",
    "        \n",
    "        color = 'red'\n",
    "        # Draw a dot for the sign positions\n",
    "        ax.scatter(pos_x, pos_y, color=color, s=50)  # s is the size of the dot\n",
    "\n",
    "# Calculate the offsets for the left and right rectangles\n",
    "rectangle_offset = 7\n",
    "left_rect_offset = 3\n",
    "right_rect_offset = left_rect_offset + width + rectangle_offset  # 5 units of space between rectangles\n",
    "sign_offset = 2.5\n",
    "\n",
    "# Plot attentions on the left and right rectangles based on walking position\n",
    "plot_reading_ratios_on_rectangle(ax, walking_positions, reading_ratios_indices, perimeter, width, height, left_rect_offset, right_rect_offset)\n",
    "\n",
    "# Plot sign positions\n",
    "plot_sign_positions(sign_positions=sign_positions, sign_offset=sign_offset, left_offset_x=left_rect_offset, right_offset_x=right_rect_offset)\n",
    "\n",
    "# Calculate the position where the vertical separation line should be drawn\n",
    "separation_line_x = left_rect_offset + width + rectangle_offset / 2\n",
    "\n",
    "# Draw a vertical line to separate the two rectangles\n",
    "ax.axvline(x=separation_line_x, color='grey', linestyle='--')\n",
    "\n",
    "# Annotations for 'first round' and 'second round'\n",
    "ax.text(left_rect_offset-1, height + 2, 'First Round', ha='center', va='bottom', fontsize=15)\n",
    "ax.text(right_rect_offset-1, height + 2, 'Second Round', ha='center', va='bottom', fontsize=15)\n",
    "\n",
    "# Set the plot limits\n",
    "ax.set_xlim(-1, right_rect_offset + width + sign_offset + 0.5)  # Adjust for spacing between rectangles and borders\n",
    "ax.set_ylim(-3, height + 3)\n",
    "\n",
    "# Keep the aspect ratio square\n",
    "ax.set_aspect('equal')\n",
    "\n",
    "# Remove axis labels and ticks\n",
    "ax.axis('off')\n",
    "\n",
    "###################################################################################\n",
    "attention_legend_handles = [\n",
    "    plt.Line2D([0], [0], marker='o', color=color, label=f'Reading Speed Ratio: {index_to_reading_ratios[idx]}', markersize=5)\n",
    "    for idx, color in reading_ratios_colors.items()\n",
    "]\n",
    "\n",
    "# Add a legend handle for 'environmental signs'\n",
    "environmental_signs_handle = plt.Line2D([0], [0], marker='o', color='red', linestyle='None', label='Environmental Signs', markersize=5)\n",
    "attention_legend_handles.append(environmental_signs_handle)\n",
    "\n",
    "ax.legend(handles=attention_legend_handles, loc='center left', bbox_to_anchor=(1, 0.5))\n",
    "###################################################################################\n",
    "\n",
    "# Save the figure\n",
    "fig.savefig(f'{prefix}/0dot{weight_str_after_decimal}-step_by_step_reading_ratios.png', dpi=300, bbox_inches='tight')\n",
    "\n",
    "# Show the plot\n",
    "plt.tight_layout()\n",
    "plt.show()"
   ]
  },
  {
   "cell_type": "markdown",
   "id": "1f23357c",
   "metadata": {},
   "source": [
    "### TODO: add other metrics: walking speed and reading speed."
   ]
  },
  {
   "cell_type": "markdown",
   "id": "8ce659bd",
   "metadata": {},
   "source": [
    "### TODO: determine other metrics, the above is just a step-to-step figure.\n",
    "Reference: https://docs.google.com/document/d/1muSs8ohGp4esWpXY1I1Nw6WxcSWxobyu05j-AC1Wmug/edit#heading=h.8iojcj90q8ne\n",
    "\n",
    "The aggregated metrics need to compare:\n",
    "1. The attention allocation.\n",
    "2. The walking speed control.\n",
    "3. Reading speed ratio (corresponds to study 2).\n",
    "4. Reading resumption behaviors (corresponds to study 3) - just do the parameter inference on L100: reading resumption time cost and error rate."
   ]
  },
  {
   "cell_type": "code",
   "execution_count": null,
   "id": "3287a925",
   "metadata": {},
   "outputs": [],
   "source": []
  }
 ],
 "metadata": {
  "kernelspec": {
   "display_name": "Python 3",
   "language": "python",
   "name": "python3"
  },
  "language_info": {
   "codemirror_mode": {
    "name": "ipython",
    "version": 3
   },
   "file_extension": ".py",
   "mimetype": "text/x-python",
   "name": "python",
   "nbconvert_exporter": "python",
   "pygments_lexer": "ipython3",
   "version": "3.8.8"
  }
 },
 "nbformat": 4,
 "nbformat_minor": 5
}
